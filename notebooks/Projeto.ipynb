{
 "cells": [
  {
   "cell_type": "markdown",
   "metadata": {},
   "source": [
    "# 0. SETUP"
   ]
  },
  {
   "cell_type": "markdown",
   "metadata": {},
   "source": [
    "## 0.1. Módulos comuns"
   ]
  },
  {
   "cell_type": "code",
   "execution_count": 1,
   "metadata": {},
   "outputs": [],
   "source": [
    "from numpy import *\n",
    "from numpy.linalg import *\n",
    "from matplotlib.pyplot import *\n",
    "from matplotlib.collections import PatchCollection\n",
    "from scipy.optimize import minimize"
   ]
  },
  {
   "cell_type": "markdown",
   "metadata": {},
   "source": [
    "## 0.2. Módulos do projeto"
   ]
  },
  {
   "cell_type": "code",
   "execution_count": 2,
   "metadata": {},
   "outputs": [],
   "source": [
    "from project_modules import graphics    # For plots\n",
    "from project_modules import graph_utils # Graph manipulation\n",
    "from project_modules import model_math  # The mathematical functions of the model"
   ]
  },
  {
   "cell_type": "markdown",
   "metadata": {},
   "source": [
    "## 0.2. Parâmetros do problema"
   ]
  },
  {
   "cell_type": "code",
   "execution_count": 35,
   "metadata": {},
   "outputs": [],
   "source": [
    "SCALE = 1.0        # How much each screen element is going to be scaled. Default is 1.0\n",
    "SCREEN_HEIGHT = 30 # The height of the screen that contains the overlapping windows in pixels\n",
    "SCREEN_WIDTH = 30  # The width of the screen that contains the overlapping windows in pixels\n",
    "MAX_WINDOW_DIM = 3 # The max height or width each window can have. For the project the default is 3.\n",
    "MIN_WINDOW_DIM = 2 # The minimum height or width each window can have. For the project the default is 2.\n",
    "CLUSTER_DISTANCE_FROM_SCREEN_CENTER = 6 # The distance from the clusters to the screen center in pixels\n",
    "POINT_DISTANCE_FROM_CLUSTER = 2         # How far the points can be from the cluster in pixels\n",
    "KNN_K = 3         # The number of closest neighbors considered for building the connectivity graph\n",
    "ALPHA = 0.9       # The weighting value for the energy function between E_N and E_O"
   ]
  },
  {
   "cell_type": "markdown",
   "metadata": {},
   "source": [
    "## 0.3. Preprocessamento dos parâmetros"
   ]
  },
  {
   "cell_type": "code",
   "execution_count": 36,
   "metadata": {},
   "outputs": [],
   "source": [
    "# Rescale\n",
    "SCREEN_HEIGHT *= SCALE\n",
    "SCREEN_WIDTH *= SCALE\n",
    "MAX_WINDOW_DIM *= SCALE\n",
    "MIN_WINDOW_DIM *= SCALE\n",
    "CLUSTER_DISTANCE_FROM_SCREEN_CENTER *= SCALE\n",
    "POINT_DISTANCE_FROM_CLUSTER *= SCALE\n",
    "# Compute screen center\n",
    "SCREEN_CENTER = array([ floor(SCREEN_WIDTH/2), floor(SCREEN_HEIGHT/2) ])\n",
    "# Set a seed for reproducibility purposes\n",
    "#random.seed(7)\n",
    "random.seed(1)"
   ]
  },
  {
   "cell_type": "markdown",
   "metadata": {},
   "source": [
    "# 1. PREPARAÇÃO DOS DADOS"
   ]
  },
  {
   "cell_type": "markdown",
   "metadata": {},
   "source": [
    "Os vetores $P_j$ gerados possuem dimensão $4$: a posição $x$ e $y$ (coluna) da origem do retângulo (ponto superior esquerdo), a altura do retângulo $h$ e a largura $w$, e o cluster $c_j$ ao qual ele pertence, de forma que $P_j=(x_j,y_j,h_j,w_j, c_j)$."
   ]
  },
  {
   "cell_type": "markdown",
   "metadata": {},
   "source": [
    "## 1.1 Gerar Centros"
   ]
  },
  {
   "cell_type": "code",
   "execution_count": 37,
   "metadata": {},
   "outputs": [],
   "source": [
    "n_groups = random.randint(3,7)\n",
    "angle_between_points = (2.0 * pi / n_groups * arange(0 , n_groups)) # The array of the angle of each cluster w.r.t. the x-axis\n",
    "clusters = transpose( # Each row is a pair x,y from each cluster\n",
    "    array( [\n",
    "        CLUSTER_DISTANCE_FROM_SCREEN_CENTER * cos( angle_between_points ) + SCREEN_CENTER[0],\n",
    "        CLUSTER_DISTANCE_FROM_SCREEN_CENTER * sin( angle_between_points ) + SCREEN_CENTER[1]\n",
    "    ] )\n",
    ")"
   ]
  },
  {
   "cell_type": "markdown",
   "metadata": {},
   "source": [
    "## 1.2 Gerar pontos ao redor dos centros"
   ]
  },
  {
   "cell_type": "code",
   "execution_count": 38,
   "metadata": {},
   "outputs": [],
   "source": [
    "size_groups = random.randint(5, 16, n_groups)\n",
    "points = zeros((sum(size_groups),5)) # [x, y, w, h, label]\n",
    "j = 0\n",
    "for cluster_idx in range(n_groups):\n",
    "    for idx in range(size_groups[cluster_idx]):\n",
    "        # Point position\n",
    "        points[j,:2] = clusters[cluster_idx] + random.randint(-POINT_DISTANCE_FROM_CLUSTER,POINT_DISTANCE_FROM_CLUSTER, 2)\n",
    "        # Point dimension\n",
    "        points[j,2:4] = random.randint(MIN_WINDOW_DIM,MAX_WINDOW_DIM+1,2)\n",
    "        # cluster_information\n",
    "        points[j,4] = cluster_idx\n",
    "        j += 1\n",
    "        \n",
    "points_pos = points[:,:2] # position vectors\n",
    "points_dims = points[:,2:4] # dimension vectors"
   ]
  },
  {
   "cell_type": "markdown",
   "metadata": {},
   "source": [
    "## 1.3 Mostrar os dados"
   ]
  },
  {
   "cell_type": "code",
   "execution_count": 39,
   "metadata": {
    "scrolled": false
   },
   "outputs": [
    {
     "data": {
      "text/plain": [
       "<Figure size 432x288 with 0 Axes>"
      ]
     },
     "metadata": {},
     "output_type": "display_data"
    },
    {
     "data": {
      "image/png": "[encoded data removed]",
      "text/plain": [
       "<Figure size 720x360 with 1 Axes>"
      ]
     },
     "metadata": {
      "needs_background": "light"
     },
     "output_type": "display_data"
    }
   ],
   "source": [
    "graphics.draw_windows(clusters, points_pos, points_dims, points[:,4], n_groups, size_groups, SCREEN_HEIGHT, SCREEN_WIDTH, SCALE)"
   ]
  },
  {
   "cell_type": "markdown",
   "metadata": {},
   "source": [
    "# 2. Modelagem Matemática\n"
   ]
  },
  {
   "cell_type": "markdown",
   "metadata": {},
   "source": [
    "O problema se resume a minimizar $E(X) = (1-\\alpha) E_O(X) + \\alpha E_N(X) $, em que $X=(x_j, y_j)$ e $\\alpha \\in [0,1]$. $E_0$ e $E_N$ são as funções de energia de overlap e a de relação entre os vizinhos. Mais detalhes sobre as funções podem ser encontradas [neste link](https://ieeexplore.ieee.org/abstract/document/6629989)."
   ]
  },
  {
   "cell_type": "code",
   "execution_count": 40,
   "metadata": {},
   "outputs": [],
   "source": [
    "_LAPLACIAN_L = graph_utils.laplacian_graph(points_pos, K=KNN_K)\n",
    "_DELTA_X = _LAPLACIAN_L.dot(points_pos[:,0])\n",
    "_DELTA_Y = _LAPLACIAN_L.dot(points_pos[:,1])\n",
    "def E_N(X):\n",
    "    w = X[-1]\n",
    "    X = reshape(X[:-1], (points.shape[0], 2)) # Removes w from the state\n",
    "    e_n = model_math.E_N(X, w, _LAPLACIAN_L, _DELTA_X, _DELTA_Y)\n",
    "    return e_n\n",
    "\n",
    "def E_O(X):\n",
    "    X = reshape(X[:-1], (points.shape[0], 2)) # Remove w from the state\n",
    "    e_o = model_math.E_O(X, points_dims)\n",
    "    return e_o"
   ]
  },
  {
   "cell_type": "markdown",
   "metadata": {},
   "source": [
    "# 3. Solução Numérica"
   ]
  },
  {
   "cell_type": "markdown",
   "metadata": {},
   "source": [
    "## 3.1 Função"
   ]
  },
  {
   "cell_type": "code",
   "execution_count": 41,
   "metadata": {},
   "outputs": [
    {
     "data": {
      "text/plain": [
       "'\\n_HESS_E_N = model_math.hess_E_N(_LAPLACIAN_L, _DELTA_X, _DELTA_Y)\\ndef hess_f(X):\\n    w = X[-1]\\n    X = reshape(X[:-1], (points.shape[0], 2))\\n    H_E_N = _HESS_E_N\\n    H_E_O = model_math.hess_E_O(X[:,0], X[:,1], points_dims[:,0], points_dims[:,1])\\n    H = alpha * H_E_N + (1.0-alpha) * H_E_O\\n    return H\\n'"
      ]
     },
     "execution_count": 41,
     "metadata": {},
     "output_type": "execute_result"
    }
   ],
   "source": [
    "alpha = ALPHA\n",
    "\n",
    "def f (X):\n",
    "    e_n = E_N(X)\n",
    "    print(e_n)\n",
    "    e_o = E_O(X)\n",
    "    return alpha * e_n + (1- alpha) * e_o\n",
    "\n",
    "def jac_f(X):\n",
    "    w = X[-1]\n",
    "    X = reshape(X[:-1], (points.shape[0], 2))\n",
    "    jac_E_O = model_math.jac_E_O(X, points_dims)\n",
    "    jac_E_N = model_math.jac_E_N(X[:,0], X[:,1], w, _LAPLACIAN_L, _DELTA_X, _DELTA_Y)\n",
    "    jac_E = alpha * jac_E_N + (1.0-alpha) * jac_E_O\n",
    "    return jac_E\n",
    "\"\"\"\n",
    "_HESS_E_N = model_math.hess_E_N(_LAPLACIAN_L, _DELTA_X, _DELTA_Y)\n",
    "def hess_f(X):\n",
    "    w = X[-1]\n",
    "    X = reshape(X[:-1], (points.shape[0], 2))\n",
    "    H_E_N = _HESS_E_N\n",
    "    H_E_O = model_math.hess_E_O(X[:,0], X[:,1], points_dims[:,0], points_dims[:,1])\n",
    "    H = alpha * H_E_N + (1.0-alpha) * H_E_O\n",
    "    return H\n",
    "\"\"\""
   ]
  },
  {
   "cell_type": "markdown",
   "metadata": {},
   "source": [
    "## 3.2 Restrições"
   ]
  },
  {
   "cell_type": "markdown",
   "metadata": {},
   "source": [
    "A implementação das restrições foi adapatada para as condições do SciPy nas quais as desigualdades são do tipo $r_i(X) \\geq 0$ [(fonte)](https://docs.scipy.org/doc/scipy/reference/generated/scipy.optimize.minimize.html#scipy.optimize.minimize)."
   ]
  },
  {
   "cell_type": "code",
   "execution_count": 42,
   "metadata": {},
   "outputs": [],
   "source": [
    "x_min = 0; x_max = SCREEN_WIDTH\n",
    "y_min = 0; y_max = SCREEN_HEIGHT\n",
    "\n",
    "# r1: x_min-x_i <= 0 <=> x_i - x_min >= 0\n",
    "def constr_fun_1(X):\n",
    "    X = reshape(X[:-1], (points.shape[0], 2)) # Remove w from the state\n",
    "    return model_math.constr_fun_1(X, x_min)\n",
    "\n",
    "# r2: x_i - x_max + h_i <= 0 <=> x_max - x_i - h_i >= 0\n",
    "def constr_fun_2(X):\n",
    "    X = reshape(X[:-1], (points.shape[0], 2)) # Remove w from the state\n",
    "    return model_math.constr_fun_2(X, x_max, points_dims)\n",
    "\n",
    "# r3: y_min-y_i <= 0 <=> y_i - y_min >= 0\n",
    "def constr_fun_3(X):\n",
    "    X = reshape(X[:-1], (points.shape[0], 2)) # Remove w from the state\n",
    "    return model_math.constr_fun_3(X, y_min)\n",
    "\n",
    "# r4: y_i - y_max + v_i <= 0 <=> y_max - y_i - v_i >= 0\n",
    "def constr_fun_4(X):\n",
    "    X = reshape(X[:-1], (points.shape[0], 2)) # Remove w from the state\n",
    "    return model_math.constr_fun_4(X,y_max, points_dims)\n",
    "\n",
    "cons = (\n",
    "    {'type': 'ineq', 'fun':  constr_fun_1},\n",
    "    {'type': 'ineq', 'fun':  constr_fun_2},\n",
    "    {'type': 'ineq', 'fun':  constr_fun_3},\n",
    "    {'type': 'ineq', 'fun':  constr_fun_4},\n",
    ")"
   ]
  },
  {
   "cell_type": "markdown",
   "metadata": {},
   "source": [
    "## 3.3 Minimização"
   ]
  },
  {
   "cell_type": "code",
   "execution_count": 43,
   "metadata": {},
   "outputs": [],
   "source": [
    "list_energy_overlapping = []\n",
    "list_energy_neighborhood = []\n",
    "list_energy = []\n",
    "# Stores the energy computed for each iteration\n",
    "def iter_callback(xk):\n",
    "    list_energy_overlapping.append(E_O(xk))\n",
    "    list_energy_neighborhood.append(E_N(xk))\n",
    "    list_energy.append(f(xk))\n",
    "    print(list_energy[-1])\n",
    "    return"
   ]
  },
  {
   "cell_type": "code",
   "execution_count": 46,
   "metadata": {
    "scrolled": true
   },
   "outputs": [
    {
     "name": "stdout",
     "output_type": "stream",
     "text": [
      "8.820000000000018\n",
      "775.0117024684722\n",
      "0.00704040786177649\n",
      "0.00704040786177649\n",
      "0.013690971747987096\n",
      "89.12272185898931\n",
      "0.009634988073105095\n",
      "0.0029833172470671103\n",
      "0.0029833172470671103\n",
      "0.010032792823712867\n",
      "0.0030522559752639037\n",
      "0.0029202786637938434\n",
      "0.0029447418499634497\n",
      "0.0029050236519251233\n",
      "0.002914414984331411\n",
      "0.0029015510687709152\n",
      "0.00290550108140193\n",
      "0.0029009163033881097\n",
      "0.002902713823304937\n",
      "0.0029008987429124332\n",
      "0.0029017638823102686\n",
      "0.00290097377668909\n",
      "0.002900909800080471\n",
      "0.002900948006361482\n",
      "0.002900916572098005\n",
      "0.002900911172935932\n",
      "0.0029009100875719\n",
      "0.0029009098607120556\n",
      "0.002900909812887509\n",
      "0.0029009098027876815\n",
      "0.0029009098006544417\n",
      "0.002900909800202718\n",
      "0.002900909800107303\n",
      "0.0029009098000875974\n",
      "0.002900909800082528\n",
      "0.0029009098000834133\n",
      "0.002900909800080999\n",
      "0.0029009098000819327\n",
      "0.002900909800080953\n",
      "0.002900909800080471\n",
      "0.0029009098000804677\n",
      "0.0029009098000807865\n",
      "0.0029009098000804677\n",
      "0.0029009098000804677\n",
      "0.0029009098000807865\n",
      "0.0029009098000804677\n",
      "0.0029009098000804677\n",
      "0.0029009098000807865\n",
      "0.0029009098000804677\n",
      "0.0029009098000804677\n",
      "0.0029009098000807865\n",
      "0.0029009098000804677\n",
      "0.0029009098000804677\n",
      "0.0029009098000804677\n",
      "0.0029009098000804677\n",
      "0.0030522559752639037\n",
      "0.002903225625183019\n",
      "0.0029591029902686326\n",
      "0.002916594280486046\n",
      "0.0029075588399259528\n",
      "0.0029048121368783542\n",
      "0.002903858320171773\n",
      "0.00290348866753504\n",
      "0.0029033371523560975\n",
      "0.0029032733249569993\n",
      "0.00290324610413277\n",
      "0.002903234431942463\n"
     ]
    }
   ],
   "source": [
    "w_init = 1.1\n",
    "X_init = append(points_pos.flatten(), [w_init])\n",
    "\n",
    "# Minimizer \n",
    "use_grad = True\n",
    "res = None\n",
    "if(use_grad):\n",
    "    res = minimize(\n",
    "        f, X_init, \n",
    "        method='BFGS', \n",
    "        jac=jac_f,\n",
    "        #hess=hess_f,\n",
    "        #constraints=cons, \n",
    "        tol=1e-5, \n",
    "        options={\"maxiter\" : 1e4},\n",
    "        callback=iter_callback\n",
    "    )\n",
    "else:\n",
    "    res = minimize(\n",
    "        f, X_init, \n",
    "        method='SLSQP', \n",
    "        #constraints=cons, \n",
    "        tol=1e-9, \n",
    "        options={\"maxiter\" : 1e4},\n",
    "        callback=iter_callback\n",
    "    )\n",
    "\n",
    "X_final = reshape(res[\"x\"][:-1], (points.shape[0], 2))"
   ]
  },
  {
   "cell_type": "markdown",
   "metadata": {},
   "source": [
    "# 4. Visualização dos Resultados"
   ]
  },
  {
   "cell_type": "markdown",
   "metadata": {},
   "source": [
    "## Disposição final das janelas"
   ]
  },
  {
   "cell_type": "code",
   "execution_count": 47,
   "metadata": {
    "scrolled": false
   },
   "outputs": [
    {
     "data": {
      "text/plain": [
       "<Figure size 432x288 with 0 Axes>"
      ]
     },
     "metadata": {},
     "output_type": "display_data"
    },
    {
     "data": {
      "image/png": "[encoded data removed]",
      "text/plain": [
       "<Figure size 720x360 with 1 Axes>"
      ]
     },
     "metadata": {
      "needs_background": "light"
     },
     "output_type": "display_data"
    }
   ],
   "source": [
    "graphics.draw_windows(clusters, X_final, points_dims, points[:,4], n_groups, size_groups, SCREEN_HEIGHT, SCREEN_WIDTH, SCALE)\n",
    "#ylim([-50, 50])"
   ]
  },
  {
   "cell_type": "markdown",
   "metadata": {},
   "source": [
    "## Comportamento das funções de energia"
   ]
  },
  {
   "cell_type": "code",
   "execution_count": 34,
   "metadata": {},
   "outputs": [
    {
     "data": {
      "image/png": "[encoded data removed]",
      "text/plain": [
       "<Figure size 432x288 with 1 Axes>"
      ]
     },
     "metadata": {
      "needs_background": "light"
     },
     "output_type": "display_data"
    }
   ],
   "source": [
    "clf()\n",
    "#ylim([0, 0.9])\n",
    "plot(list_energy_overlapping, label=r\"$E_O$\")\n",
    "plot(list_energy_neighborhood, label=r\"$E_N$\")\n",
    "plot(list_energy, label=r\"$E$\")\n",
    "legend()\n",
    "show()"
   ]
  },
  {
   "cell_type": "code",
   "execution_count": 15,
   "metadata": {},
   "outputs": [
    {
     "data": {
      "image/png": "[encoded data removed]",
      "text/plain": [
       "<Figure size 432x288 with 1 Axes>"
      ]
     },
     "metadata": {
      "needs_background": "light"
     },
     "output_type": "display_data"
    }
   ],
   "source": [
    "G = graph_utils.adjacency_matrix(points_pos, KNN_K)\n",
    "graph_utils.connectivity_scatter(points_pos,G)"
   ]
  },
  {
   "cell_type": "code",
   "execution_count": 16,
   "metadata": {},
   "outputs": [
    {
     "data": {
      "text/plain": [
       "array([0., 1.])"
      ]
     },
     "execution_count": 16,
     "metadata": {},
     "output_type": "execute_result"
    },
    {
     "data": {
      "image/png": "[encoded data removed]",
      "text/plain": [
       "<Figure size 432x288 with 2 Axes>"
      ]
     },
     "metadata": {
      "needs_background": "light"
     },
     "output_type": "display_data"
    }
   ],
   "source": [
    "rcParams[\"image.cmap\"] = 'twilight'\n",
    "#rcParams[\"image.cmap\"] = 'jet'\n",
    "fig, ax = subplots()\n",
    "aa = ax.imshow(_LAPLACIAN_L) #- _LAPLACIAN_L.transpose())\n",
    "cbar = fig.colorbar(aa)\n",
    "unique(G)"
   ]
  },
  {
   "cell_type": "code",
   "execution_count": null,
   "metadata": {},
   "outputs": [],
   "source": []
  },
  {
   "cell_type": "code",
   "execution_count": null,
   "metadata": {},
   "outputs": [],
   "source": []
  },
  {
   "cell_type": "code",
   "execution_count": null,
   "metadata": {},
   "outputs": [],
   "source": []
  }
 ],
 "metadata": {
  "kernelspec": {
   "display_name": "Python 3",
   "language": "python",
   "name": "python3"
  },
  "language_info": {
   "codemirror_mode": {
    "name": "ipython",
    "version": 3
   },
   "file_extension": ".py",
   "mimetype": "text/x-python",
   "name": "python",
   "nbconvert_exporter": "python",
   "pygments_lexer": "ipython3",
   "version": "3.7.4"
  }
 },
 "nbformat": 4,
 "nbformat_minor": 2
}
