{
 "cells": [
  {
   "cell_type": "markdown",
   "metadata": {},
   "source": [
    "# 0. SETUP"
   ]
  },
  {
   "cell_type": "markdown",
   "metadata": {},
   "source": [
    "## 0.1. Módulos comuns"
   ]
  },
  {
   "cell_type": "code",
   "execution_count": 1,
   "metadata": {},
   "outputs": [],
   "source": [
    "from numpy import *\n",
    "from numpy.linalg import *\n",
    "from matplotlib.pyplot import *\n",
    "from matplotlib.collections import PatchCollection\n",
    "\n",
    "from scipy.optimize import minimize"
   ]
  },
  {
   "cell_type": "markdown",
   "metadata": {},
   "source": [
    "## 0.2. Parâmetros do problema"
   ]
  },
  {
   "cell_type": "code",
   "execution_count": 2,
   "metadata": {},
   "outputs": [],
   "source": [
    "SCALE = 1.0 # How much each screen element is going to be scaled. Default is 1.0\n",
    "SCREEN_HEIGHT = 30 # The height of the screen that contains the overlapping windows in pixels\n",
    "SCREEN_WIDTH = 30 # The width of the screen that contains the overlapping windows in pixels\n",
    "MAX_WINDOW_DIM = 3 # The max height or width each window can have. For the project the default is 3.\n",
    "MIN_WINDOW_DIM = 2 # The minimum height or width each window can have. For the project the default is 2.\n",
    "CLUSTER_DISTANCE_FROM_SCREEN_CENTER = 7 # The distance from the clusters to the screen center in pixels\n",
    "POINT_DISTANCE_FROM_CLUSTER = 5 # How far the points can be from the cluster in pixels"
   ]
  },
  {
   "cell_type": "markdown",
   "metadata": {},
   "source": [
    "## 0.3. Preprocessamento dos parâmetros"
   ]
  },
  {
   "cell_type": "code",
   "execution_count": 3,
   "metadata": {},
   "outputs": [],
   "source": [
    "# Rescale\n",
    "SCREEN_HEIGHT *= SCALE\n",
    "SCREEN_WIDTH *= SCALE\n",
    "MAX_WINDOW_DIM *= SCALE\n",
    "MIN_WINDOW_DIM *= SCALE\n",
    "CLUSTER_DISTANCE_FROM_SCREEN_CENTER *= SCALE\n",
    "POINT_DISTANCE_FROM_CLUSTER *= SCALE\n",
    "\n",
    "SCREEN_CENTER = array([ floor(SCREEN_WIDTH/2), floor(SCREEN_HEIGHT/2) ])"
   ]
  },
  {
   "cell_type": "markdown",
   "metadata": {},
   "source": [
    "# 1. PREPARAÇÃO DOS DADOS"
   ]
  },
  {
   "cell_type": "markdown",
   "metadata": {},
   "source": [
    "Os vetores $P_j$ gerados possuem dimensão $4$: a posição $x$ e $y$ (coluna) da origem do retângulo (ponto superior esquerdo), a altura do retângulo $h$ e a largura $w$, de forma que $P_j=(x_j,y_j,h_j,w_j)$. A nivel de implementação, o ponto ainda possui a informação do cluster ao qual ele pertence."
   ]
  },
  {
   "cell_type": "markdown",
   "metadata": {},
   "source": [
    "## 1.1 Gerar Centros"
   ]
  },
  {
   "cell_type": "code",
   "execution_count": 4,
   "metadata": {},
   "outputs": [],
   "source": [
    "n_groups = random.randint(3,7)\n",
    "angle_between_points = (2.0 * pi / n_groups * arange(0 , n_groups)) # The array of the angle of each cluster w.r.t. the x-axis\n",
    "\n",
    "clusters = transpose( # Each row is a pair x,y from each cluster\n",
    "    array( [\n",
    "        CLUSTER_DISTANCE_FROM_SCREEN_CENTER * cos( angle_between_points ) + SCREEN_CENTER[0],\n",
    "        CLUSTER_DISTANCE_FROM_SCREEN_CENTER * sin( angle_between_points ) + SCREEN_CENTER[1]\n",
    "    ] )\n",
    ")"
   ]
  },
  {
   "cell_type": "markdown",
   "metadata": {},
   "source": [
    "## 1.2 Gerar pontos ao redor dos centros"
   ]
  },
  {
   "cell_type": "code",
   "execution_count": 5,
   "metadata": {},
   "outputs": [],
   "source": [
    "size_groups = random.randint(5, 16, n_groups)\n",
    "points = zeros((sum(size_groups),5)) #\n",
    "\n",
    "j = 0\n",
    "for cluster_idx in range(n_groups):\n",
    "    for idx in range(size_groups[cluster_idx]):\n",
    "        # Point position\n",
    "        points[j,:2] = clusters[cluster_idx] + random.randint(-POINT_DISTANCE_FROM_CLUSTER/2,POINT_DISTANCE_FROM_CLUSTER/2, 2)\n",
    "        # Point dimension\n",
    "        points[j,2:4] = random.randint(MIN_WINDOW_DIM,MAX_WINDOW_DIM+1,2)\n",
    "        # cluster_information\n",
    "        points[j,4] = cluster_idx\n",
    "        j += 1\n",
    "        \n",
    "points_pos = points[:,:2] # position vectors\n",
    "points_dims = points[:,2:4] # dimension vectors"
   ]
  },
  {
   "cell_type": "markdown",
   "metadata": {},
   "source": [
    "## 1.3 Mostrar os dados"
   ]
  },
  {
   "cell_type": "code",
   "execution_count": 6,
   "metadata": {
    "scrolled": false
   },
   "outputs": [
    {
     "data": {
      "text/plain": [
       "<Figure size 432x288 with 0 Axes>"
      ]
     },
     "metadata": {},
     "output_type": "display_data"
    },
    {
     "data": {
      "image/png": "[encoded data removed]",
      "text/plain": [
       "<Figure size 1440x720 with 1 Axes>"
      ]
     },
     "metadata": {
      "needs_background": "light"
     },
     "output_type": "display_data"
    }
   ],
   "source": [
    "def draw_windows(window_clusters, window_points, window_dims, window_cluster_ids, n_clusters, group_size_list):\n",
    "    clf()\n",
    "    fig, ax = subplots(1, figsize=(20,10))\n",
    "    ax.set_title(\"Clusters and Windows\")\n",
    "    ax.set_xlim(0, SCREEN_WIDTH)\n",
    "    ax.set_ylim(0, SCREEN_HEIGHT)\n",
    "    \n",
    "    # Draw Rectangles\n",
    "    rect_clusters_list = [[] for i in range(n_clusters)]\n",
    "    for j in range(sum(group_size_list)):\n",
    "        point = window_points[j]\n",
    "        dim = window_dims[j]\n",
    "        idx = window_cluster_ids[j]\n",
    "        rect = Rectangle((point[0], point[1]), dim[0], dim[1])\n",
    "        rect_clusters_list[int(idx)].append(rect)\n",
    "    color_list = [\"cyan\", \"blue\", \"yellow\", \"green\", \"magenta\", \"gray\", \"black\"]\n",
    "    for i in range(n_clusters):\n",
    "        rect_list = rect_clusters_list[i]\n",
    "        pc = PatchCollection(rect_list, facecolor=color_list[i], edgecolor=\"k\", alpha=0.2)\n",
    "        ax.add_collection(pc)\n",
    "        \n",
    "    # Plot points\n",
    "    colors_idx=window_cluster_ids[:].astype('int32')\n",
    "    colors = [ color_list[color_idx] for color_idx in colors_idx]\n",
    "    scatter(window_points[:,0], window_points[:,1], c=colors)\n",
    "\n",
    "    # Plot Clusters\n",
    "    ax.scatter(window_clusters[:,0], window_clusters[:,1], c=\"red\", marker=\"*\")\n",
    "    return\n",
    "\n",
    "draw_windows(clusters, points_pos, points_dims, points[:,4], n_groups, size_groups)"
   ]
  },
  {
   "cell_type": "markdown",
   "metadata": {},
   "source": [
    "# 2. Modelagem Matemática\n"
   ]
  },
  {
   "cell_type": "markdown",
   "metadata": {},
   "source": [
    "O problema se resume a maximizar $E(X) = (1-\\alpha) E_O(X) + \\alpha E_N(X) $, em que $X=(x_j, y_j)$ e $\\alpha \\in [0,1]$. $E_0$ e $E_N$ são as funções de energia de overlap e a de relação entre os vizinhos. Mais detalhes sobre as funções podem ser encontradas [neste link](https://ieeexplore.ieee.org/abstract/document/6629989)."
   ]
  },
  {
   "cell_type": "code",
   "execution_count": 7,
   "metadata": {},
   "outputs": [],
   "source": [
    "def plus_operator(val):\n",
    "    if val > 0:\n",
    "        return val\n",
    "    return 0.0\n",
    "\n",
    "def O_ij(s_i, delta_s_i, s_j, delta_s_j):\n",
    "    ret_val = 0\n",
    "    if(s_i >= s_j):\n",
    "        ret_val =  (1./(delta_s_j ** 4)) * plus_operator(delta_s_j ** 2 - (s_i - s_j) ** 2) ** 2\n",
    "    else:\n",
    "        ret_val =  (1./(delta_s_i ** 4)) * plus_operator(delta_s_i ** 2 - (s_i - s_j) ** 2) ** 2\n",
    "    return ret_val\n",
    "\n",
    "def E_O(X):\n",
    "    X = reshape(X, (points.shape[0], 2))\n",
    "    sum_e = 0\n",
    "    n = points.shape[0]\n",
    "    for i in range(points.shape[0]):\n",
    "        point_i = X[i]\n",
    "        # Horizontal\n",
    "        x_i = point_i[0]\n",
    "        h_i = points_dims[i,0]\n",
    "        # Vertical\n",
    "        y_i = point_i[1]\n",
    "        v_i = points_dims[i,1]\n",
    "        for j in range(i+1, points.shape[0]):\n",
    "            point_j = X[j]\n",
    "            # Horizontal\n",
    "            x_j = point_j[0]\n",
    "            h_j = points_dims[j,0]\n",
    "            overlapping_h = O_ij(x_i, h_i, x_j, h_j)\n",
    "            # Vertical\n",
    "            y_j = point_j[1]\n",
    "            v_j = points_dims[j,1]\n",
    "            overlapping_v = O_ij(y_i, v_i, y_j, v_j)\n",
    "            # Sum\n",
    "            sum_e += overlapping_h * overlapping_v\n",
    "    sum_e = 2.0 / (n * (n+1) ) * sum_e\n",
    "    return sum_e\n",
    "\n",
    "def E_N(X):\n",
    "    return "
   ]
  },
  {
   "cell_type": "markdown",
   "metadata": {},
   "source": [
    "# 3. Solução Numérica"
   ]
  },
  {
   "cell_type": "code",
   "execution_count": 8,
   "metadata": {
    "scrolled": true
   },
   "outputs": [],
   "source": [
    "f = E_O # TODO: ADICIONAR E_N\n",
    "\n",
    "## RESTRICOES\n",
    "#### ATENCAO: AS RESTRICOES DE DESIGUALDADE NO SCIPY SAO O OPOSTO: SAO DO TIPO r(X) >= 0!\n",
    "# https://docs.scipy.org/doc/scipy/reference/generated/scipy.optimize.minimize.html#scipy.optimize.minimize\n",
    "x_min = 0\n",
    "x_max = SCREEN_WIDTH\n",
    "y_min = 0\n",
    "y_max = SCREEN_HEIGHT\n",
    "\n",
    "# r1: x_min-x_i <= 0 \n",
    "#     <=> x_i - x_min >= 0\n",
    "def constr_fun_1(X):\n",
    "    \"\"\"\n",
    "    X is the matrix (N,5) of points.\n",
    "    \"\"\"\n",
    "    X = reshape(X, (points.shape[0], 2))\n",
    "    N = X.shape[0]\n",
    "    constr = zeros((N))\n",
    "    for i in range(N):\n",
    "        #constr[i] = x_min - X[i,0]\n",
    "        constr[i] = X[i,0] - x_min\n",
    "    return constr\n",
    "\n",
    "# r2: x_i - x_max + h_i <= 0 \n",
    "#     <=> x_max - x_i - h_i >= 0\n",
    "def constr_fun_2(X):\n",
    "    \"\"\"\n",
    "    X is the matrix (N,5) of points.\n",
    "    \"\"\"\n",
    "    X = reshape(X, (points.shape[0], 2))\n",
    "    N = X.shape[0]\n",
    "    constr = zeros((N))\n",
    "    for i in range(N):\n",
    "        #constr[i] = X[i,0] - x_max + X[i,2]\n",
    "        constr[i] = x_max - X[i,0] - points_dims[i,0]\n",
    "    return constr\n",
    "\n",
    "# r3: y_min-y_i <= 0 \n",
    "#     <=> y_i - y_min >= 0\n",
    "def constr_fun_3(X):\n",
    "    \"\"\"\n",
    "    X is the matrix (N,5) of points.\n",
    "    \"\"\"\n",
    "    X = reshape(X, (points.shape[0], 2))\n",
    "    N = X.shape[0]\n",
    "    constr = zeros((N))\n",
    "    for i in range(N):\n",
    "        constr[i] = X[i,1] -  y_min\n",
    "    return constr\n",
    "\n",
    "# r4: y_i - y_max + v_i <= 0\n",
    "#     <=> y_max - y_i - v_i >= 0\n",
    "def constr_fun_4(X):\n",
    "    \"\"\"\n",
    "    X is the matrix (N,5) of points.\n",
    "    \"\"\"\n",
    "    X = reshape(X, (points.shape[0], 2))\n",
    "    N = X.shape[0]\n",
    "    constr = zeros((N))\n",
    "    for i in range(N):\n",
    "        #constr[i] = X[i,1] - y_max + X[i,3]\n",
    "        constr[i] = x_max - X[i,1]  - points_dims[i,1]\n",
    "    return constr\n",
    "\n",
    "\n",
    "cons = (\n",
    "    {'type': 'ineq', 'fun':  constr_fun_1},\n",
    "    {'type': 'ineq', 'fun':  constr_fun_2},\n",
    "    {'type': 'ineq', 'fun':  constr_fun_3},\n",
    "    {'type': 'ineq', 'fun':  constr_fun_4},\n",
    ")\n",
    "\n",
    "# TESTAR NLOPT!\n",
    "res = minimize(f, points_pos, method='COBYLA', constraints=cons, tol=1e-10)#, options={\"maxiter\" : 1e6})"
   ]
  },
  {
   "cell_type": "markdown",
   "metadata": {},
   "source": [
    "# 4. Visualização dos Resultados"
   ]
  },
  {
   "cell_type": "code",
   "execution_count": 10,
   "metadata": {
    "scrolled": false
   },
   "outputs": [
    {
     "data": {
      "text/plain": [
       "<Figure size 432x288 with 0 Axes>"
      ]
     },
     "metadata": {},
     "output_type": "display_data"
    },
    {
     "data": {
      "image/png": "[encoded data removed]",
      "text/plain": [
       "<Figure size 1440x720 with 1 Axes>"
      ]
     },
     "metadata": {
      "needs_background": "light"
     },
     "output_type": "display_data"
    }
   ],
   "source": [
    "draw_windows(clusters, res[\"x\"].reshape((points.shape[0], 2)), points_dims, points[:,4], n_groups, size_groups)"
   ]
  },
  {
   "cell_type": "markdown",
   "metadata": {},
   "source": [
    "# 5. Elaboração de relatório"
   ]
  }
 ],
 "metadata": {
  "kernelspec": {
   "display_name": "Python 3",
   "language": "python",
   "name": "python3"
  },
  "language_info": {
   "codemirror_mode": {
    "name": "ipython",
    "version": 3
   },
   "file_extension": ".py",
   "mimetype": "text/x-python",
   "name": "python",
   "nbconvert_exporter": "python",
   "pygments_lexer": "ipython3",
   "version": "3.7.4"
  }
 },
 "nbformat": 4,
 "nbformat_minor": 2
}
