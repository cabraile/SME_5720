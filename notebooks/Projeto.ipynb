{
 "cells": [
  {
   "cell_type": "markdown",
   "metadata": {},
   "source": [
    "# 0. SETUP"
   ]
  },
  {
   "cell_type": "markdown",
   "metadata": {},
   "source": [
    "## 0.1. Módulos comuns"
   ]
  },
  {
   "cell_type": "code",
   "execution_count": 1,
   "metadata": {},
   "outputs": [],
   "source": [
    "from numpy import *\n",
    "from numpy.linalg import *\n",
    "from matplotlib.pyplot import *\n",
    "from matplotlib.collections import PatchCollection\n",
    "\n",
    "from scipy.optimize import minimize"
   ]
  },
  {
   "cell_type": "markdown",
   "metadata": {},
   "source": [
    "## 0.2. Parâmetros do problema"
   ]
  },
  {
   "cell_type": "code",
   "execution_count": 2,
   "metadata": {},
   "outputs": [],
   "source": [
    "SCREEN_HEIGHT = 30 # The height of the screen that contains the overlapping windows in pixels\n",
    "SCREEN_WIDTH = 30 # The width of the screen that contains the overlapping windows in pixels\n",
    "CLUSTER_DISTANCE_FROM_SCREEN_CENTER = 7 # The distance from the clusters to the screen center in pixels\n",
    "POINT_DISTANCE_FROM_CLUSTER = 5 # How far the points can be from the cluster in pixels"
   ]
  },
  {
   "cell_type": "markdown",
   "metadata": {},
   "source": [
    "## 0.3. Preprocessamento dos parâmetros"
   ]
  },
  {
   "cell_type": "code",
   "execution_count": 3,
   "metadata": {},
   "outputs": [],
   "source": [
    "SCREEN_CENTER = array([ floor(SCREEN_WIDTH/2), floor(SCREEN_HEIGHT/2) ])"
   ]
  },
  {
   "cell_type": "markdown",
   "metadata": {},
   "source": [
    "# 1. PREPARAÇÃO DOS DADOS"
   ]
  },
  {
   "cell_type": "markdown",
   "metadata": {},
   "source": [
    "Os vetores $P_j$ gerados possuem dimensão $4$: a posição $x$ e $y$ (coluna) da origem do retângulo (ponto superior esquerdo), a altura do retângulo $h$ e a largura $w$, de forma que $P_j=(x_j,y_j,h_j,w_j)$. A nivel de implementação, o ponto ainda possui a informação do cluster ao qual ele pertence."
   ]
  },
  {
   "cell_type": "markdown",
   "metadata": {},
   "source": [
    "## 1.1 Gerar Centros"
   ]
  },
  {
   "cell_type": "code",
   "execution_count": 4,
   "metadata": {},
   "outputs": [],
   "source": [
    "n_groups = random.randint(3,7)\n",
    "angle_between_points = (2.0 * pi / n_groups * arange(0 , n_groups)) # The array of the angle of each cluster w.r.t. the x-axis\n",
    "\n",
    "clusters = transpose( # Each row is a pair x,y from each cluster\n",
    "    array( [\n",
    "        CLUSTER_DISTANCE_FROM_SCREEN_CENTER * cos( angle_between_points ) + SCREEN_CENTER[0],\n",
    "        CLUSTER_DISTANCE_FROM_SCREEN_CENTER * sin( angle_between_points ) + SCREEN_CENTER[1]\n",
    "    ] )\n",
    ")"
   ]
  },
  {
   "cell_type": "markdown",
   "metadata": {},
   "source": [
    "## 1.2 Gerar pontos ao redor dos centros"
   ]
  },
  {
   "cell_type": "code",
   "execution_count": 5,
   "metadata": {},
   "outputs": [],
   "source": [
    "size_groups = random.randint(5, 16, n_groups)\n",
    "points = zeros((sum(size_groups),5)) #\n",
    "\n",
    "j = 0\n",
    "for cluster_idx in range(n_groups):\n",
    "    for idx in range(size_groups[cluster_idx]):\n",
    "        # Point position\n",
    "        points[j,:2] = clusters[cluster_idx] + random.randint(-POINT_DISTANCE_FROM_CLUSTER/2,POINT_DISTANCE_FROM_CLUSTER/2, 2)\n",
    "        # Point dimension\n",
    "        points[j,2:4] = random.randint(2,4,2)\n",
    "        # cluster_information\n",
    "        points[j,4] = cluster_idx\n",
    "        j += 1"
   ]
  },
  {
   "cell_type": "markdown",
   "metadata": {},
   "source": [
    "## 1.3 Mostrar os dados"
   ]
  },
  {
   "cell_type": "code",
   "execution_count": 6,
   "metadata": {},
   "outputs": [
    {
     "data": {
      "image/png": "[encoded data removed]",
      "text/plain": [
       "<Figure size 432x288 with 1 Axes>"
      ]
     },
     "metadata": {
      "needs_background": "light"
     },
     "output_type": "display_data"
    }
   ],
   "source": [
    "fig, ax = subplots(1)\n",
    "ax.set_title(\"Clusters and Windows\")\n",
    "ax.set_xlim(0, SCREEN_WIDTH)\n",
    "ax.set_ylim(0, SCREEN_HEIGHT)\n",
    "\n",
    "\n",
    "# Draw Rectangles\n",
    "rect_clusters_list = [[] for i in range(n_groups)]\n",
    "for j in range(sum(size_groups)):\n",
    "    point = points[j]\n",
    "    rect = Rectangle((point[0], point[1]), point[2], point[3])\n",
    "    rect_clusters_list[int(point[4])].append(rect)\n",
    "color_list = [\"cyan\", \"blue\", \"yellow\", \"green\", \"magenta\", \"gray\", \"black\"]\n",
    "#color_list = [\"#8B1E3F\", \"#EB9D96\", \"#89BD9E\", \"#F0C987\", \"#DB4C40\", \"#18020C\", \"#6C5E64\"]\n",
    "for i in range(n_groups):\n",
    "    rect_list = rect_clusters_list[i]\n",
    "    pc = PatchCollection(rect_list, facecolor=color_list[i], edgecolor=\"k\", alpha=0.2)\n",
    "    ax.add_collection(pc)\n",
    "\n",
    "# Plot points\n",
    "colors_idx=points[:,4].astype('int32')\n",
    "colors = [ color_list[color_idx] for color_idx in colors_idx]\n",
    "scatter(points[:,0], points[:,1], c=colors)\n",
    "    \n",
    "# Plot Clusters\n",
    "ax.scatter(clusters[:,0], clusters[:,1], c=\"red\", marker=\"*\")\n",
    "\n",
    "# Display\n",
    "show()"
   ]
  },
  {
   "cell_type": "markdown",
   "metadata": {},
   "source": [
    "# 2. Modelagem Matemática\n"
   ]
  },
  {
   "cell_type": "markdown",
   "metadata": {},
   "source": [
    "O problema se resume a maximizar $E(X) = (1-\\alpha) E_O(X) + \\alpha E_N(X) $, em que $X=(x_j, y_j)$ e $\\alpha \\in [0,1]$. $E_0$ e $E_N$ são as funções de energia de overlap e a de relação entre os vizinhos. Mais detalhes sobre as funções podem ser encontradas [neste link](https://ieeexplore.ieee.org/abstract/document/6629989)."
   ]
  },
  {
   "cell_type": "code",
   "execution_count": 7,
   "metadata": {},
   "outputs": [],
   "source": [
    "def plus_operator(val):\n",
    "    if val > 0:\n",
    "        return val\n",
    "    return 0.0\n",
    "\n",
    "def O_ij(s_i, delta_s_i, s_j, delta_s_j):\n",
    "    ret_val = 0\n",
    "    if(s_i >= s_j):\n",
    "        ret_val =  (1./(delta_s_j ** 4)) * plus_operator(delta_s_j ** 2 - (s_i - s_j) ** 2) ** 2\n",
    "    else:\n",
    "        ret_val =  (1./(delta_s_i ** 4)) * plus_operator(delta_s_i ** 2 - (s_i - s_j) ** 2) ** 2\n",
    "    return ret_val\n",
    "\n",
    "def E_O(X):\n",
    "    X = reshape(X, points.shape)\n",
    "    sum_e = 0\n",
    "    n = points.shape[0]\n",
    "    for i in range(points.shape[0]):\n",
    "        point_i = points[i]\n",
    "        # Horizontal\n",
    "        x_i = point_i[0]\n",
    "        h_i = point_i[2]\n",
    "        # Vertical\n",
    "        y_i = point_i[1]\n",
    "        v_i = point_i[3]\n",
    "        for j in range(i+1, points.shape[0]):\n",
    "            point_j = points[j]\n",
    "            # Horizontal\n",
    "            x_j = point_j[0]\n",
    "            h_j = point_j[2]\n",
    "            overlapping_h = O_ij(x_i, h_i, x_j, h_j)\n",
    "            # Vertical\n",
    "            y_j = point_j[1]\n",
    "            v_j = point_j[3]\n",
    "            overlapping_v = O_ij(y_i, v_i, y_j, v_j)\n",
    "            # Sum\n",
    "            sum_e += overlapping_h * overlapping_v\n",
    "    sum_e = 2.0 / (n * (n+1) ) * sum_e\n",
    "    return sum_e\n",
    "\n",
    "def E_N(X):\n",
    "    return "
   ]
  },
  {
   "cell_type": "markdown",
   "metadata": {},
   "source": [
    "# 3. Solução Numérica"
   ]
  },
  {
   "cell_type": "code",
   "execution_count": 13,
   "metadata": {},
   "outputs": [
    {
     "name": "stdout",
     "output_type": "stream",
     "text": [
      "[21.         15.          3.          2.          0.         21.\n",
      " 13.          2.          3.          0.         20.         16.\n",
      "  3.          3.          0.         21.         14.          2.\n",
      "  3.          0.         22.         16.          2.          2.\n",
      "  0.         21.         16.          3.          2.          0.\n",
      " 19.5        19.06217783  3.          2.          1.         19.5\n",
      " 22.06217783  2.          2.          1.         17.5        21.06217783\n",
      "  3.          2.          1.         19.5        19.06217783  2.\n",
      "  3.          1.         18.5        22.06217783  2.          2.\n",
      "  1.         17.5        19.06217783  3.          3.          1.\n",
      " 17.5        19.06217783  3.          3.          1.         17.5\n",
      " 20.06217783  2.          2.          1.         18.5        20.06217783\n",
      "  3.          2.          1.         18.5        19.06217783  2.\n",
      "  2.          1.         18.5        19.06217783  2.          3.\n",
      "  1.         18.5        22.06217783  3.          2.          1.\n",
      " 18.5        20.06217783  3.          3.          1.         19.5\n",
      " 22.06217783  3.          3.          1.         10.5        21.06217783\n",
      "  2.          3.          2.         11.5        19.06217783  3.\n",
      "  3.          2.          9.5        22.06217783  2.          2.\n",
      "  2.          9.5        20.06217783  3.          2.          2.\n",
      " 11.5        19.06217783  3.          3.          2.          6.\n",
      " 15.          3.          2.          3.          6.         15.\n",
      "  3.          3.          3.          9.         15.          3.\n",
      "  2.          3.          6.         14.          2.          2.\n",
      "  3.          6.         13.          2.          3.          3.\n",
      "  6.         16.          2.          2.          3.          7.\n",
      " 13.          2.          2.          3.          6.         14.\n",
      "  3.          3.          3.          9.         16.          3.\n",
      "  2.          3.          9.         15.          2.          3.\n",
      "  3.          6.         13.          3.          2.          3.\n",
      "  9.         16.          3.          2.          3.          7.\n",
      " 13.          2.          2.          3.          7.         16.\n",
      "  3.          3.          3.         10.5         8.93782217  2.\n",
      "  3.          4.          9.5         8.93782217  2.          3.\n",
      "  4.         11.5         8.93782217  3.          3.          4.\n",
      " 12.5         6.93782217  3.          3.          4.         10.5\n",
      "  6.93782217  3.          2.          4.         12.5         9.93782217\n",
      "  3.          2.          4.         11.5         8.93782217  2.\n",
      "  2.          4.         16.5         6.93782217  3.          2.\n",
      "  5.         17.5         7.93782217  3.          3.          5.\n",
      " 17.5         7.93782217  2.          2.          5.         17.5\n",
      "  7.93782217  3.          2.          5.         17.5         6.93782217\n",
      "  3.          2.          5.         18.5         9.93782217  2.\n",
      "  3.          5.        ]\n"
     ]
    }
   ],
   "source": [
    "f = E_O # TODO: ADICIONAR E_N\n",
    "\n",
    "## RESTRICOES\n",
    "#### ATENCAO: AS RESTRICOES DE DESIGUALDADE NO SCIPY SAO O OPOSTO: SAO DO TIPO r(X) >= 0!!! AJUSTAR\n",
    "# https://docs.scipy.org/doc/scipy/reference/generated/scipy.optimize.minimize.html#scipy.optimize.minimize\n",
    "x_min = 0\n",
    "x_max = SCREEN_WIDTH\n",
    "y_min = 0\n",
    "y_max = SCREEN_HEIGHT\n",
    "\n",
    "# r1: x_min-x_i <= 0 \n",
    "#     <=> x_i - x_min >= 0\n",
    "def constr_fun_1(X):\n",
    "    \"\"\"\n",
    "    X is the matrix (N,5) of points.\n",
    "    \"\"\"\n",
    "    X = reshape(X, points.shape)\n",
    "    N = X.shape[0]\n",
    "    constr = zeros((N))\n",
    "    for i in range(N):\n",
    "        #constr[i] = x_min - X[i,0]\n",
    "        constr[i] = X[i,0] - x_min\n",
    "    return constr\n",
    "\n",
    "# r2: x_i - x_max + h_i <= 0 \n",
    "#     <=> x_max - x_i - h_i >= 0\n",
    "def constr_fun_2(X):\n",
    "    \"\"\"\n",
    "    X is the matrix (N,5) of points.\n",
    "    \"\"\"\n",
    "    X = reshape(X, points.shape)\n",
    "    N = X.shape[0]\n",
    "    constr = zeros((N))\n",
    "    for i in range(N):\n",
    "        #constr[i] = X[i,0] - x_max + X[i,2]\n",
    "        constr[i] = x_max - X[i,0] - X[i,2]\n",
    "    return constr\n",
    "\n",
    "# r3: y_min-y_i <= 0 \n",
    "#     <=> y_i - y_min >= 0\n",
    "def constr_fun_3(X):\n",
    "    \"\"\"\n",
    "    X is the matrix (N,5) of points.\n",
    "    \"\"\"\n",
    "    X = reshape(X, points.shape)\n",
    "    N = X.shape[0]\n",
    "    constr = zeros((N))\n",
    "    for i in range(N):\n",
    "        constr[i] = X[i,1] -  y_min\n",
    "    return constr\n",
    "\n",
    "# r4: y_i - y_max + v_i <= 0\n",
    "#     <=> y_max - y_i - v_i >= 0\n",
    "def constr_fun_4(X):\n",
    "    \"\"\"\n",
    "    X is the matrix (N,5) of points.\n",
    "    \"\"\"\n",
    "    X = reshape(X, points.shape)\n",
    "    N = X.shape[0]\n",
    "    constr = zeros((N))\n",
    "    for i in range(N):\n",
    "        #constr[i] = X[i,1] - x_max + X[i,3]\n",
    "        constr[i] = x_max - X[i,1]  - X[i,3]\n",
    "    return constr\n",
    "\n",
    "cons = (\n",
    "    {'type': 'ineq', 'fun':  constr_fun_1},\n",
    "    {'type': 'ineq', 'fun':  constr_fun_2},\n",
    "    {'type': 'ineq', 'fun':  constr_fun_3},\n",
    "    {'type': 'ineq', 'fun':  constr_fun_4},\n",
    ")\n",
    "\n",
    "res = minimize(f, points, method='SLSQP', constraints=cons)\n",
    "print(res[\"x\"])"
   ]
  },
  {
   "cell_type": "markdown",
   "metadata": {},
   "source": [
    "# 4. Visualização dos Resultados"
   ]
  },
  {
   "cell_type": "markdown",
   "metadata": {},
   "source": [
    "# 5. Elaboração de relatório"
   ]
  }
 ],
 "metadata": {
  "kernelspec": {
   "display_name": "Python 3",
   "language": "python",
   "name": "python3"
  },
  "language_info": {
   "codemirror_mode": {
    "name": "ipython",
    "version": 3
   },
   "file_extension": ".py",
   "mimetype": "text/x-python",
   "name": "python",
   "nbconvert_exporter": "python",
   "pygments_lexer": "ipython3",
   "version": "3.7.4"
  }
 },
 "nbformat": 4,
 "nbformat_minor": 2
}
