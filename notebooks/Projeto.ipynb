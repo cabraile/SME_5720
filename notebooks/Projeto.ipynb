{
 "cells": [
  {
   "cell_type": "markdown",
   "metadata": {},
   "source": [
    "# 0. SETUP"
   ]
  },
  {
   "cell_type": "markdown",
   "metadata": {},
   "source": [
    "## 0.1. Módulos comuns"
   ]
  },
  {
   "cell_type": "code",
   "execution_count": 1,
   "metadata": {},
   "outputs": [],
   "source": [
    "from numpy import *\n",
    "from numpy.linalg import *\n",
    "from matplotlib.pyplot import *\n",
    "from matplotlib.collections import PatchCollection\n",
    "from scipy.optimize import minimize"
   ]
  },
  {
   "cell_type": "markdown",
   "metadata": {},
   "source": [
    "## 0.2. Módulos do projeto"
   ]
  },
  {
   "cell_type": "code",
   "execution_count": 2,
   "metadata": {},
   "outputs": [],
   "source": [
    "from project_modules import graphics    # For plots\n",
    "from project_modules import graph_utils # Graph manipulation\n",
    "from project_modules import model_math  # The mathematical functions of the model"
   ]
  },
  {
   "cell_type": "markdown",
   "metadata": {},
   "source": [
    "## 0.2. Parâmetros do problema"
   ]
  },
  {
   "cell_type": "code",
   "execution_count": 3,
   "metadata": {},
   "outputs": [],
   "source": [
    "SCALE = 1.0        # How much each screen element is going to be scaled. Default is 1.0\n",
    "SCREEN_HEIGHT = 30 # The height of the screen that contains the overlapping windows in pixels\n",
    "SCREEN_WIDTH = 30  # The width of the screen that contains the overlapping windows in pixels\n",
    "MAX_WINDOW_DIM = 3 # The max height or width each window can have. For the project the default is 3.\n",
    "MIN_WINDOW_DIM = 2 # The minimum height or width each window can have. For the project the default is 2.\n",
    "CLUSTER_DISTANCE_FROM_SCREEN_CENTER = 6 # The distance from the clusters to the screen center in pixels\n",
    "POINT_DISTANCE_FROM_CLUSTER = 2         # How far the points can be from the cluster in pixels\n",
    "KNN_K = 7         # The number of closest neighbors considered for building the connectivity graph\n",
    "ALPHA = 0.1        # The weighting value for the energy function between E_N and E_O"
   ]
  },
  {
   "cell_type": "markdown",
   "metadata": {},
   "source": [
    "## 0.3. Preprocessamento dos parâmetros"
   ]
  },
  {
   "cell_type": "code",
   "execution_count": 4,
   "metadata": {},
   "outputs": [],
   "source": [
    "# Rescale\n",
    "SCREEN_HEIGHT *= SCALE\n",
    "SCREEN_WIDTH *= SCALE\n",
    "MAX_WINDOW_DIM *= SCALE\n",
    "MIN_WINDOW_DIM *= SCALE\n",
    "CLUSTER_DISTANCE_FROM_SCREEN_CENTER *= SCALE\n",
    "POINT_DISTANCE_FROM_CLUSTER *= SCALE\n",
    "# Compute screen center\n",
    "SCREEN_CENTER = array([ floor(SCREEN_WIDTH/2), floor(SCREEN_HEIGHT/2) ])\n",
    "# Set a seed for reproducibility purposes\n",
    "#random.seed(7)\n",
    "random.seed(1)"
   ]
  },
  {
   "cell_type": "markdown",
   "metadata": {},
   "source": [
    "# 1. PREPARAÇÃO DOS DADOS"
   ]
  },
  {
   "cell_type": "markdown",
   "metadata": {},
   "source": [
    "Os vetores $P_j$ gerados possuem dimensão $4$: a posição $x$ e $y$ (coluna) da origem do retângulo (ponto superior esquerdo), a altura do retângulo $h$ e a largura $w$, e o cluster $c_j$ ao qual ele pertence, de forma que $P_j=(x_j,y_j,h_j,w_j, c_j)$."
   ]
  },
  {
   "cell_type": "markdown",
   "metadata": {},
   "source": [
    "## 1.1 Gerar Centros"
   ]
  },
  {
   "cell_type": "code",
   "execution_count": 5,
   "metadata": {},
   "outputs": [],
   "source": [
    "n_groups = random.randint(3,7)\n",
    "angle_between_points = (2.0 * pi / n_groups * arange(0 , n_groups)) # The array of the angle of each cluster w.r.t. the x-axis\n",
    "clusters = transpose( # Each row is a pair x,y from each cluster\n",
    "    array( [\n",
    "        CLUSTER_DISTANCE_FROM_SCREEN_CENTER * cos( angle_between_points ) + SCREEN_CENTER[0],\n",
    "        CLUSTER_DISTANCE_FROM_SCREEN_CENTER * sin( angle_between_points ) + SCREEN_CENTER[1]\n",
    "    ] )\n",
    ")"
   ]
  },
  {
   "cell_type": "markdown",
   "metadata": {},
   "source": [
    "## 1.2 Gerar pontos ao redor dos centros"
   ]
  },
  {
   "cell_type": "code",
   "execution_count": 6,
   "metadata": {},
   "outputs": [],
   "source": [
    "size_groups = random.randint(5, 16, n_groups)\n",
    "points = zeros((sum(size_groups),5)) # [x, y, w, h, label]\n",
    "j = 0\n",
    "for cluster_idx in range(n_groups):\n",
    "    for idx in range(size_groups[cluster_idx]):\n",
    "        # Point position\n",
    "        points[j,:2] = clusters[cluster_idx] + random.randint(-POINT_DISTANCE_FROM_CLUSTER,POINT_DISTANCE_FROM_CLUSTER, 2)\n",
    "        # Point dimension\n",
    "        points[j,2:4] = random.randint(MIN_WINDOW_DIM,MAX_WINDOW_DIM+1,2)\n",
    "        # cluster_information\n",
    "        points[j,4] = cluster_idx\n",
    "        j += 1\n",
    "        \n",
    "points_pos = points[:,:2] # position vectors\n",
    "points_dims = points[:,2:4] # dimension vectors"
   ]
  },
  {
   "cell_type": "markdown",
   "metadata": {},
   "source": [
    "## 1.3 Mostrar os dados"
   ]
  },
  {
   "cell_type": "code",
   "execution_count": 7,
   "metadata": {
    "scrolled": false
   },
   "outputs": [
    {
     "data": {
      "text/plain": [
       "<Figure size 432x288 with 0 Axes>"
      ]
     },
     "metadata": {},
     "output_type": "display_data"
    },
    {
     "data": {
      "image/png": "[encoded data removed]",
      "text/plain": [
       "<Figure size 720x360 with 1 Axes>"
      ]
     },
     "metadata": {
      "needs_background": "light"
     },
     "output_type": "display_data"
    }
   ],
   "source": [
    "graphics.draw_windows(clusters, points_pos, points_dims, points[:,4], n_groups, size_groups, SCREEN_HEIGHT, SCREEN_WIDTH, SCALE)"
   ]
  },
  {
   "cell_type": "markdown",
   "metadata": {},
   "source": [
    "# 2. Modelagem Matemática\n"
   ]
  },
  {
   "cell_type": "markdown",
   "metadata": {},
   "source": [
    "O problema se resume a minimizar $E(X) = (1-\\alpha) E_O(X) + \\alpha E_N(X) $, em que $X=(x_j, y_j)$ e $\\alpha \\in [0,1]$. $E_0$ e $E_N$ são as funções de energia de overlap e a de relação entre os vizinhos. Mais detalhes sobre as funções podem ser encontradas [neste link](https://ieeexplore.ieee.org/abstract/document/6629989)."
   ]
  },
  {
   "cell_type": "code",
   "execution_count": 8,
   "metadata": {},
   "outputs": [],
   "source": [
    "_LAPLACIAN_L = graph_utils.laplacian_graph(points_pos, K=KNN_K)\n",
    "_DELTA_X = _LAPLACIAN_L.dot(points_pos[:,0])\n",
    "_DELTA_Y = _LAPLACIAN_L.dot(points_pos[:,1])\n",
    "def E_N(X):\n",
    "    w = X[-1]\n",
    "    X = reshape(X[:-1], (points.shape[0], 2)) # Removes w from the state\n",
    "    e_n = model_math.E_N(X, w, _LAPLACIAN_L, _DELTA_X, _DELTA_Y)\n",
    "    return e_n\n",
    "\n",
    "def E_O(X):\n",
    "    X = reshape(X[:-1], (points.shape[0], 2)) # Remove w from the state\n",
    "    e_o = model_math.E_O(X, points_dims)\n",
    "    return e_o"
   ]
  },
  {
   "cell_type": "markdown",
   "metadata": {},
   "source": [
    "# 3. Solução Numérica"
   ]
  },
  {
   "cell_type": "markdown",
   "metadata": {},
   "source": [
    "## 3.1 Função"
   ]
  },
  {
   "cell_type": "code",
   "execution_count": 9,
   "metadata": {},
   "outputs": [],
   "source": [
    "alpha = ALPHA\n",
    "\n",
    "def f (X):\n",
    "    e_n = E_N(X)\n",
    "    e_o = E_O(X)\n",
    "    return alpha * e_n + (1- alpha) * e_o\n",
    "\n",
    "def jac_f(X):\n",
    "    w = X[-1]\n",
    "    X = reshape(X[:-1], (points.shape[0], 2))\n",
    "    jac_E_O = model_math.jac_E_O(X, points_dims)\n",
    "    jac_E_N = model_math.jac_E_N(X[:,0], X[:,1], w, _LAPLACIAN_L, _DELTA_X, _DELTA_Y)\n",
    "    jac_E = alpha * jac_E_N + (1.0-alpha) * jac_E_O\n",
    "    return jac_E\n"
   ]
  },
  {
   "cell_type": "markdown",
   "metadata": {},
   "source": [
    "## 3.2 Restrições"
   ]
  },
  {
   "cell_type": "markdown",
   "metadata": {},
   "source": [
    "A implementação das restrições foi adapatada para as condições do SciPy nas quais as desigualdades são do tipo $r_i(X) \\geq 0$ [(fonte)](https://docs.scipy.org/doc/scipy/reference/generated/scipy.optimize.minimize.html#scipy.optimize.minimize)."
   ]
  },
  {
   "cell_type": "code",
   "execution_count": 10,
   "metadata": {},
   "outputs": [],
   "source": [
    "x_min = 0; x_max = SCREEN_WIDTH\n",
    "y_min = 0; y_max = SCREEN_HEIGHT\n",
    "\n",
    "# r1: x_min-x_i <= 0 <=> x_i - x_min >= 0\n",
    "def constr_fun_1(X):\n",
    "    X = reshape(X[:-1], (points.shape[0], 2)) # Remove w from the state\n",
    "    return model_math.constr_fun_1(X, x_min)\n",
    "\n",
    "# r2: x_i - x_max + h_i <= 0 <=> x_max - x_i - h_i >= 0\n",
    "def constr_fun_2(X):\n",
    "    X = reshape(X[:-1], (points.shape[0], 2)) # Remove w from the state\n",
    "    return model_math.constr_fun_2(X, x_max, points_dims)\n",
    "\n",
    "# r3: y_min-y_i <= 0 <=> y_i - y_min >= 0\n",
    "def constr_fun_3(X):\n",
    "    X = reshape(X[:-1], (points.shape[0], 2)) # Remove w from the state\n",
    "    return model_math.constr_fun_3(X, y_min)\n",
    "\n",
    "# r4: y_i - y_max + v_i <= 0 <=> y_max - y_i - v_i >= 0\n",
    "def constr_fun_4(X):\n",
    "    X = reshape(X[:-1], (points.shape[0], 2)) # Remove w from the state\n",
    "    return model_math.constr_fun_4(X,y_max, points_dims)\n",
    "\n",
    "cons = (\n",
    "    {'type': 'ineq', 'fun':  constr_fun_1},\n",
    "    {'type': 'ineq', 'fun':  constr_fun_2},\n",
    "    {'type': 'ineq', 'fun':  constr_fun_3},\n",
    "    {'type': 'ineq', 'fun':  constr_fun_4},\n",
    ")"
   ]
  },
  {
   "cell_type": "markdown",
   "metadata": {},
   "source": [
    "## 3.3 Minimização"
   ]
  },
  {
   "cell_type": "code",
   "execution_count": 11,
   "metadata": {},
   "outputs": [],
   "source": [
    "list_energy_overlapping = []\n",
    "list_energy_neighborhood = []\n",
    "list_energy = []\n",
    "# Stores the energy computed for each iteration\n",
    "def iter_callback(xk):\n",
    "    list_energy_overlapping.append(E_O(xk))\n",
    "    list_energy_neighborhood.append(E_N(xk))\n",
    "    list_energy.append(f(xk))\n",
    "    print(list_energy[-1])\n",
    "    return"
   ]
  },
  {
   "cell_type": "code",
   "execution_count": 12,
   "metadata": {},
   "outputs": [
    {
     "data": {
      "text/plain": [
       "'\\nfrom source.minimizer import minimizer,directions,stepsize\\n\\ndef grad_f(X):\\n    jac = jac_f(X)\\n    return jac.reshape(jac.shape[0],1)\\n    \\nw_init = 1.0\\nX_init = append(points_pos.flatten(), [w_init]).reshape(points_pos.shape[0]*2+1,1)\\ndirection_selection_params = {\\n    \"grad_f\" : grad_f\\n}\\n\\nstep_size_selection_params = {\\n    \"f\"         :   f,\\n    \"grad_f\"    :   grad_f,\\n    \"alpha\"     :   1e-5,\\n    \"sigma\"     :   1.0,\\n    \"beta\"      :   1e-2\\n}\\n\\nx, d, alpha, n_iters = minimizer.minimize(\\n        x_init = X_init,\\n        f = f,\\n        grad_f = grad_f,\\n        epsilon = 1e-5,\\n        direction_selection_function = directions.steepest_descent,\\n        step_size_selection_function = stepsize.fixed,\\n        direction_selection_params = direction_selection_params,\\n        step_size_selection_params = step_size_selection_params,\\n        max_iters=1e3,\\n        callback=iter_callback\\n)\\nX_final = reshape(x[-1][:-1], (points.shape[0], 2))\\n'"
      ]
     },
     "execution_count": 12,
     "metadata": {},
     "output_type": "execute_result"
    }
   ],
   "source": [
    "\"\"\"\n",
    "from source.minimizer import minimizer,directions,stepsize\n",
    "\n",
    "def grad_f(X):\n",
    "    jac = jac_f(X)\n",
    "    return jac.reshape(jac.shape[0],1)\n",
    "    \n",
    "w_init = 1.0\n",
    "X_init = append(points_pos.flatten(), [w_init]).reshape(points_pos.shape[0]*2+1,1)\n",
    "direction_selection_params = {\n",
    "    \"grad_f\" : grad_f\n",
    "}\n",
    "\n",
    "step_size_selection_params = {\n",
    "    \"f\"         :   f,\n",
    "    \"grad_f\"    :   grad_f,\n",
    "    \"alpha\"     :   1e-5,\n",
    "    \"sigma\"     :   1.0,\n",
    "    \"beta\"      :   1e-2\n",
    "}\n",
    "\n",
    "x, d, alpha, n_iters = minimizer.minimize(\n",
    "        x_init = X_init,\n",
    "        f = f,\n",
    "        grad_f = grad_f,\n",
    "        epsilon = 1e-5,\n",
    "        direction_selection_function = directions.steepest_descent,\n",
    "        step_size_selection_function = stepsize.fixed,\n",
    "        direction_selection_params = direction_selection_params,\n",
    "        step_size_selection_params = step_size_selection_params,\n",
    "        max_iters=1e3,\n",
    "        callback=iter_callback\n",
    ")\n",
    "X_final = reshape(x[-1][:-1], (points.shape[0], 2))\n",
    "\"\"\""
   ]
  },
  {
   "cell_type": "code",
   "execution_count": 25,
   "metadata": {
    "scrolled": true
   },
   "outputs": [
    {
     "name": "stdout",
     "output_type": "stream",
     "text": [
      "0.08274402290356621\n"
     ]
    }
   ],
   "source": [
    "w_init = 1.1\n",
    "X_init = append(points_pos.flatten(), [w_init])\n",
    "\n",
    "# Minimizer \n",
    "use_grad = True\n",
    "res = None\n",
    "if(use_grad):\n",
    "    res = minimize(\n",
    "        f, X_init, \n",
    "        method='BFGS', \n",
    "        jac=jac_f,\n",
    "        #constraints=cons, \n",
    "        tol=1e-8, \n",
    "        options={\"maxiter\" : 1e4},\n",
    "        callback=iter_callback\n",
    "    )\n",
    "    \n",
    "else:\n",
    "    res = minimize(\n",
    "        f, X_init, \n",
    "        method='SLSQP', \n",
    "        constraints=cons, \n",
    "        tol=1e-19, \n",
    "        options={\"maxiter\" : 1e2, \"gtol\": 1e-20},\n",
    "        callback=iter_callback\n",
    "    )\n",
    "\n",
    "X_final = reshape(res[\"x\"][:-1], (points.shape[0], 2))"
   ]
  },
  {
   "cell_type": "markdown",
   "metadata": {},
   "source": [
    "# 4. Visualização dos Resultados"
   ]
  },
  {
   "cell_type": "markdown",
   "metadata": {},
   "source": [
    "## Disposição final das janelas"
   ]
  },
  {
   "cell_type": "code",
   "execution_count": 26,
   "metadata": {
    "scrolled": false
   },
   "outputs": [
    {
     "data": {
      "text/plain": [
       "<Figure size 432x288 with 0 Axes>"
      ]
     },
     "metadata": {},
     "output_type": "display_data"
    },
    {
     "data": {
      "image/png": "[encoded data removed]",
      "text/plain": [
       "<Figure size 720x360 with 1 Axes>"
      ]
     },
     "metadata": {
      "needs_background": "light"
     },
     "output_type": "display_data"
    }
   ],
   "source": [
    "graphics.draw_windows(clusters, X_final, points_dims, points[:,4], n_groups, size_groups, SCREEN_HEIGHT, SCREEN_WIDTH, SCALE)"
   ]
  },
  {
   "cell_type": "markdown",
   "metadata": {},
   "source": [
    "## Comportamento das funções de energia"
   ]
  },
  {
   "cell_type": "code",
   "execution_count": 27,
   "metadata": {},
   "outputs": [
    {
     "data": {
      "image/png": "[encoded data removed]",
      "text/plain": [
       "<Figure size 432x288 with 1 Axes>"
      ]
     },
     "metadata": {
      "needs_background": "light"
     },
     "output_type": "display_data"
    }
   ],
   "source": [
    "clf()\n",
    "ylim([0, 20])\n",
    "plot(list_energy_overlapping, label=r\"$E_O$\")\n",
    "plot(list_energy_neighborhood, label=r\"$E_N$\")\n",
    "plot(list_energy, label=r\"$E$\")\n",
    "legend()\n",
    "show()"
   ]
  },
  {
   "cell_type": "code",
   "execution_count": null,
   "metadata": {},
   "outputs": [],
   "source": []
  },
  {
   "cell_type": "code",
   "execution_count": null,
   "metadata": {},
   "outputs": [],
   "source": []
  }
 ],
 "metadata": {
  "kernelspec": {
   "display_name": "Python 3",
   "language": "python",
   "name": "python3"
  },
  "language_info": {
   "codemirror_mode": {
    "name": "ipython",
    "version": 3
   },
   "file_extension": ".py",
   "mimetype": "text/x-python",
   "name": "python",
   "nbconvert_exporter": "python",
   "pygments_lexer": "ipython3",
   "version": "3.7.4"
  }
 },
 "nbformat": 4,
 "nbformat_minor": 2
}
