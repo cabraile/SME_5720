{
 "cells": [
  {
   "cell_type": "markdown",
   "metadata": {},
   "source": [
    "# LISTA 4"
   ]
  },
  {
   "cell_type": "markdown",
   "metadata": {},
   "source": [
    "Problema\n",
    "\n",
    "$\n",
    "\\text{min} \\quad x_2\\\\\n",
    "\\text{s.a.:} \\\\\n",
    "\\quad\\quad        x_1 \\leq 0 \\\\\n",
    "\\quad\\quad        -x_2 \\leq 0 \\\\\n",
    "\\quad\\quad        x^2_1 x_2 \\leq 0 \\\\\n",
    "\\quad\\quad        x^3_1 x_2 \\leq 0\n",
    "$"
   ]
  },
  {
   "cell_type": "markdown",
   "metadata": {},
   "source": [
    "# 1. Gráficos das restrições"
   ]
  },
  {
   "cell_type": "markdown",
   "metadata": {},
   "source": [
    "## Bibliotecas"
   ]
  },
  {
   "cell_type": "code",
   "execution_count": 52,
   "metadata": {},
   "outputs": [],
   "source": [
    "from numpy import *\n",
    "from numpy.linalg import *\n",
    "from matplotlib.pyplot import *\n",
    "from matplotlib.collections import *"
   ]
  },
  {
   "cell_type": "markdown",
   "metadata": {},
   "source": [
    "## Funções de desigualdade"
   ]
  },
  {
   "cell_type": "code",
   "execution_count": 53,
   "metadata": {},
   "outputs": [],
   "source": [
    "def h_1(X):\n",
    "    return X[0]\n",
    "def h_2(X):\n",
    "    return -X[1]\n",
    "def h_3(X):\n",
    "    return X[0]**2 * X[1]\n",
    "def h_4(X):\n",
    "    return X[0]**3 * X[1]"
   ]
  },
  {
   "cell_type": "markdown",
   "metadata": {},
   "source": [
    "## 1.a Encontrar a região viável"
   ]
  },
  {
   "cell_type": "markdown",
   "metadata": {},
   "source": [
    "A região viável $\\Omega$ é a região onde todas as restrições são satisfeitas $$\\Omega:=\\{ X : h_1(X) \\leq 0 \\cap h_2(X) \\leq 0 \\cap h_3(X) \\leq 0 \\cap h_4(X) \\leq 0 \\}$$"
   ]
  },
  {
   "cell_type": "code",
   "execution_count": 54,
   "metadata": {},
   "outputs": [],
   "source": [
    "def h_inters(X): # Intersection\n",
    "    h1 = h_1(X)\n",
    "    h2 = h_2(X)\n",
    "    h3 = h_3(X)\n",
    "    h4 = h_4(X)\n",
    "    if h1 <= 0 and h2 <= 0 and h3 <= 0 and h4 <= 0:\n",
    "        return True\n",
    "    return False"
   ]
  },
  {
   "cell_type": "markdown",
   "metadata": {},
   "source": [
    "Desta forma, o resultado encontrado está apresentado na célula abaixo (os resultados foram obtidos antes de forma analítica)."
   ]
  },
  {
   "cell_type": "code",
   "execution_count": 55,
   "metadata": {},
   "outputs": [
    {
     "data": {
      "image/png": "[encoded data removed]",
      "text/plain": [
       "<Figure size 432x432 with 1 Axes>"
      ]
     },
     "metadata": {
      "needs_background": "light"
     },
     "output_type": "display_data"
    }
   ],
   "source": [
    "im_range = 150.0\n",
    "im_step = 1.0\n",
    "\n",
    "def get_viable_region_matrix(h):\n",
    "    x_1_list = arange(-im_range, im_range + 0.1, 1)\n",
    "    x_2_list = arange(-im_range, im_range + 0.1, 1)\n",
    "    X_1, X_2 = meshgrid(x_1_list, x_2_list)\n",
    "    H_list = zeros(X_1.shape)\n",
    "    for i in range(X_1.shape[0]):\n",
    "        for j in range(X_2.shape[1]):\n",
    "            X = array([X_1[i,j],X_2[i,j]])\n",
    "            H_list[i,j] = h(X)\n",
    "    return H_list\n",
    "\n",
    "def plot_constraints(H_list):\n",
    "    fig = figure(figsize=(6,6))\n",
    "    imshow(\n",
    "        H_list, interpolation='none', origin='lower', \n",
    "        cmap=cm.gray, extent=(-im_range, im_range, -im_range, im_range)\n",
    "    )\n",
    "    \n",
    "H_inters_list = get_viable_region_matrix(h_inters)\n",
    "plot_constraints(H_inters_list)"
   ]
  },
  {
   "cell_type": "markdown",
   "metadata": {},
   "source": [
    "A região viável está em \n",
    "\n",
    "$\n",
    "\\Omega = \\{ X : (x_1 = 0 \\cap  x_2 \\geq 0) \\cup (x_2 = 0 \\cap  x_1 \\leq 0)\\}\n",
    "$"
   ]
  },
  {
   "cell_type": "markdown",
   "metadata": {},
   "source": [
    "# 2. Encontrar o conjunto de otimizadores $\\Omega^*=\\{X^*\\}$"
   ]
  },
  {
   "cell_type": "markdown",
   "metadata": {},
   "source": [
    "## 2.a. Condições de Karush-Kuhn-Tucker (KKT)"
   ]
  },
  {
   "cell_type": "markdown",
   "metadata": {},
   "source": [
    "O ponto ótimo deve respeitas as condições:\n",
    "\n",
    "1. $\\nabla f(X^*)=-\\sum_{i=1}^{4}{\\nabla h_i(X^*) \\mu_i}$\n",
    "2. $ h_i(X^*) \\mu_i = 0$\n",
    "3. $ \\mu_i \\geq 0 $"
   ]
  },
  {
   "cell_type": "markdown",
   "metadata": {},
   "source": [
    "## 2.b. Condição 1"
   ]
  },
  {
   "cell_type": "markdown",
   "metadata": {},
   "source": [
    "**Cálculo dos gradientes**\n",
    "\n",
    "$\\nabla f(X) = \\begin{bmatrix}\n",
    "0\\\\\n",
    "1\n",
    "\\end{bmatrix}$,\n",
    "$\\nabla h_1(X) = \\begin{bmatrix}\n",
    "1\\\\\n",
    "0\n",
    "\\end{bmatrix}$, \n",
    "$\\nabla h_2(X) = \\begin{bmatrix}\n",
    "0\\\\\n",
    "-1\n",
    "\\end{bmatrix}$,\n",
    "$\\nabla h_3(X) = \\begin{bmatrix}\n",
    "2 x_1 x_2\\\\\n",
    "x_1^2\n",
    "\\end{bmatrix}$,\n",
    "$\\nabla h_4(X) = \\begin{bmatrix}\n",
    "3 x_1^2 x_2\\\\\n",
    "x_1^3\n",
    "\\end{bmatrix}$\n"
   ]
  },
  {
   "cell_type": "markdown",
   "metadata": {},
   "source": [
    "**Aplicação na condição 1**\n",
    "\n",
    "$\n",
    "\\begin{bmatrix}\n",
    "    0\\\\\n",
    "    1\n",
    "\\end{bmatrix}=- \\begin{pmatrix}\n",
    "\\begin{bmatrix}\n",
    "    1\\\\\n",
    "    0\n",
    "\\end{bmatrix}\\mu_1+\n",
    "\\begin{bmatrix}\n",
    "    0\\\\\n",
    "    -1\n",
    "\\end{bmatrix}\\mu_2+\n",
    "\\begin{bmatrix}\n",
    "    2 x_1 x_2\\\\\n",
    "    x_1^2\n",
    "\\end{bmatrix}\\mu_3+\n",
    "\\begin{bmatrix}\n",
    "    3 x_1^2 x_2\\\\\n",
    "    x_1^3\n",
    "\\end{bmatrix}\\mu_4\n",
    "\\end{pmatrix}\n",
    "$"
   ]
  },
  {
   "cell_type": "markdown",
   "metadata": {},
   "source": [
    "**O que leva ao sistema de equações:**\n",
    "\\begin{matrix}\n",
    "\\text{Eq. 2.b.1} & 1\\mu_1 & + & 0\\mu_2 & + & 2x_1 x_2\\mu_3  & + & 3 x_1^2 x_2 \\mu_4 & = & 0\\\\ \n",
    "\\text{Eq. 2.b.2} & 0\\mu_1 & + & -1\\mu_2 & + & x_1^2\\mu_3 & + & x_1^3\\mu_4 & = & -1\n",
    "\\end{matrix}"
   ]
  },
  {
   "cell_type": "markdown",
   "metadata": {},
   "source": [
    "**Se dividirmos o conjunto viável em dois, temos**\n",
    "1. $\\Omega_1 = \\{ X : x_1=0 \\cap x_2 \\geq 0 \\}$\n",
    "2. $\\Omega_2 = \\{ X : x_1\\leq 0 \\cap x_2 = 0 \\}$"
   ]
  },
  {
   "cell_type": "markdown",
   "metadata": {},
   "source": [
    "**Da Equação 2.b.1**, temos que $\\mu_1=0$, visto que ou $x_1 = 0$ ou $x_2 = 0$"
   ]
  },
  {
   "cell_type": "markdown",
   "metadata": {},
   "source": [
    "**Desta forma, resta a equação 2.b.2**\n",
    "\n",
    "**2.b.2:** $\n",
    "-1\\mu_2 +x_1^2\\mu_3 + x_1^3\\mu_4 = -1\n",
    "$"
   ]
  },
  {
   "cell_type": "markdown",
   "metadata": {},
   "source": [
    "## 2.c. Condição  2"
   ]
  },
  {
   "cell_type": "markdown",
   "metadata": {},
   "source": [
    "$\n",
    "\\text{a.} \\quad x_1 \\mu_1 = 0 \\\\\n",
    "\\text{b.} \\quad - x_2 \\mu_2 = 0  \\\\\n",
    "\\text{c.} \\quad x_1^2 x_2 \\mu_3 = 0 \\\\\n",
    "\\text{d.} \\quad x_1^3 x_2 \\mu_4 = 0 \\\\\n",
    "$\n",
    "\n",
    "* A equação **a** é sempre satisfeita, visto que $\\mu_1 = 0$, $\\forall x_1 \\in \\mathbb{R}$.\n",
    "* As equações **c** e **d** são sempre satisfeitas, visto que $x_1=0$ ou $x_2=0$, $\\forall \\mu_3, \\mu_4 \\in \\mathbb{R}$\n",
    "* Cabe prosseguir com **b**"
   ]
  },
  {
   "cell_type": "markdown",
   "metadata": {},
   "source": [
    "**A equação b. da condição 2 (Equação 2.c.b)** pode ser usada em conjunto da **Equação 2.b.2**, tal que:\n",
    "\n",
    "* $-1\\mu_2 +x_1^2\\mu_3 + x_1^3\\mu_4 = -1$\n",
    "    * $\\mu_2 = x_1^2\\mu_3 + x_1^3\\mu_4 +1$\n",
    "* **Na Equação 2.c.b:** $-x_2( x_1^2\\mu_3 + x_1^3\\mu_4 +1) = 0$, \n",
    "    * Isto leva a $x_2=0$\n",
    "    \n",
    "Logo, sabemos que os pontos que minimizam o problema estão contidos no conjunto viável $\\Omega_2$, ou seja, $x_1 \\leq 0$ e $x_2=0$ "
   ]
  },
  {
   "cell_type": "markdown",
   "metadata": {},
   "source": [
    "## 2.d Condição 3\n",
    "Ainda resta provar que $\\mu_i \\geq 0$, $i=1,2,3,4$. Pela condição 1, sabemos que $\\mu_1 = 0$ e pela condição 2 temos que $\\mu_3,\\mu_4 \\in \\mathbb{R}$. Com a condição 3, temos que $\\mu_3,\\mu_4 \\geq 0$. Logo, precisamos que $\\mu_2 \\geq 0$. Assim\n",
    "\n",
    "$\n",
    "\\mu_2 = x_1^2 \\mu_3 + x_1^3 \\mu_4 + 1 \\geq 0\n",
    "$\n",
    "\n",
    "Com um pouco de manipulação, chegamos a\n",
    "\n",
    "$\n",
    "\\mu_3 + x_1 \\mu_4 \\geq \\frac{-1}{x_1^2}\n",
    "$\n",
    "\n",
    "Como $\\frac{-1}{x_1^2} \\leq 0$, então\n",
    "\n",
    "$\n",
    "\\mu_3 + x_1 \\mu_4 \\geq 0 \\Rightarrow x_1 \\geq \\frac{-\\mu_3}{\\mu_4}\n",
    "$\n",
    "\n",
    "Como $\\frac{-\\mu_3}{\\mu_4} \\leq 0$, então\n",
    "\n",
    "$\n",
    "x_1 \\geq 0\n",
    "$"
   ]
  },
  {
   "cell_type": "markdown",
   "metadata": {},
   "source": [
    "Sabemos que $X \\in \\Omega_2$, portanto, para existir, $x_1=0$. De fato, se $x_1 = 0$, temos que $\\mu_2=1\\geq 0$.\n",
    "\n",
    "Portanto, o minimizador $X^*$ de $f(X)$ é o ponto $X^*=(0,0)$."
   ]
  },
  {
   "cell_type": "markdown",
   "metadata": {},
   "source": [
    "## Dúvida\n",
    "A partir do momento que definimos que a solução estava contida em $\\Omega_2$, temos que $f(x)=x_2=0$. Isto não deveria ser o suficiente para definir que $\\{X^*\\}$ na verdade é o conjunto $\\Omega_2$? Afinal, independente de $x_1$, $f(X)$ terá o mesmo valor. Onde parar esta questão?"
   ]
  },
  {
   "cell_type": "markdown",
   "metadata": {},
   "source": [
    "# 3. Implementar o problema"
   ]
  },
  {
   "cell_type": "markdown",
   "metadata": {},
   "source": [
    "## 3.1 Jacobiana"
   ]
  },
  {
   "cell_type": "code",
   "execution_count": 56,
   "metadata": {},
   "outputs": [],
   "source": [
    "def jac_h_1(X):\n",
    "    return array([ [1.0, 0.0] ])\n",
    "\n",
    "def jac_h_2(X):\n",
    "    return array([ [0.0, -1.0] ])\n",
    "\n",
    "def jac_h_3(X):\n",
    "    return array([ [2.0 * X[0] * X[1], X[0] ** 2.0] ])\n",
    "\n",
    "def jac_h_4(X):\n",
    "    return array([ [3.0 * (X[0] ** 2.0) * X[1], X[0] ** 3.0] ])"
   ]
  },
  {
   "cell_type": "markdown",
   "metadata": {},
   "source": [
    "## 3.2 Minimização"
   ]
  },
  {
   "cell_type": "code",
   "execution_count": 57,
   "metadata": {
    "scrolled": true
   },
   "outputs": [
    {
     "name": "stdout",
     "output_type": "stream",
     "text": [
      "-----------\n",
      "Sol:  [-1.48859114e+02 -2.59557310e-13]\n",
      "Init:  [-150. -150.]\n",
      "Success:  True\n",
      "-----------\n",
      "Sol:  [-1.48214104e+02 -3.46294954e-13]\n",
      "Init:  [-150. -100.]\n",
      "Success:  True\n",
      "-----------\n",
      "Sol:  [-1.48148340e+02 -3.25222708e-13]\n",
      "Init:  [-150.  -50.]\n",
      "Success:  True\n",
      "-----------\n",
      "Sol:  [-1.49994146e+02 -2.34833047e-13]\n",
      "Init:  [-150.    0.]\n",
      "Success:  True\n",
      "-----------\n",
      "Sol:  [-1.17488115e+02 -4.32087761e-13]\n",
      "Init:  [-150.   50.]\n",
      "Success:  True\n",
      "-----------\n",
      "Sol:  [-9.23941879e-04  2.90449335e-05]\n",
      "Init:  [-150.  100.]\n",
      "Success:  True\n",
      "-----------\n",
      "Sol:  [-2.15833391e-06  5.24728486e+01]\n",
      "Init:  [-150.  150.]\n",
      "Success:  True\n",
      "-----------\n",
      "Sol:  [-9.91207829e+01 -9.28688748e-13]\n",
      "Init:  [-100. -150.]\n",
      "Success:  True\n",
      "-----------\n",
      "Sol:  [-9.82465998e+01 -8.98714321e-13]\n",
      "Init:  [-100. -100.]\n",
      "Success:  True\n",
      "-----------\n",
      "Sol:  [-9.80231490e+01 -6.25201867e-13]\n",
      "Init:  [-100.  -50.]\n",
      "Success:  True\n",
      "-----------\n",
      "Sol:  [-9.99827169e+01 -9.01969174e-13]\n",
      "Init:  [-100.    0.]\n",
      "Success:  True\n",
      "-----------\n",
      "Sol:  [-5.03044901e+01 -3.36939989e-12]\n",
      "Init:  [-100.   50.]\n",
      "Success:  True\n",
      "-----------\n",
      "Sol:  [-3.19796394e-06  1.18696996e+01]\n",
      "Init:  [-100.  100.]\n",
      "Success:  True\n",
      "-----------\n",
      "Sol:  [-2.01445018e-06  6.79915918e+01]\n",
      "Init:  [-100.  150.]\n",
      "Success:  True\n",
      "-----------\n",
      "Sol:  [-4.89739958e+01 -2.83570359e-12]\n",
      "Init:  [ -50. -150.]\n",
      "Success:  True\n",
      "-----------\n",
      "Sol:  [-4.91320371e+01 -3.30800401e-12]\n",
      "Init:  [ -50. -100.]\n",
      "Success:  True\n",
      "-----------\n",
      "Sol:  [-4.86130939e+01 -2.32200201e-12]\n",
      "Init:  [-50. -50.]\n",
      "Success:  True\n",
      "-----------\n",
      "Sol:  [-5.01194238e+01 -1.73712968e-12]\n",
      "Init:  [-50.   0.]\n",
      "Success:  True\n",
      "-----------\n",
      "Sol:  [-1.77313816e-03  2.51106550e-05]\n",
      "Init:  [-50.  50.]\n",
      "Success:  True\n",
      "-----------\n",
      "Sol:  [-2.27962483e-06  2.98620404e+01]\n",
      "Init:  [-50. 100.]\n",
      "Success:  True\n",
      "-----------\n",
      "Sol:  [-1.40278679e-06  8.41317349e+01]\n",
      "Init:  [-50. 150.]\n",
      "Success:  True\n",
      "-----------\n",
      "Sol:  [-8.35329792e-02  1.93354803e-06]\n",
      "Init:  [   0. -150.]\n",
      "Success:  True\n",
      "-----------\n",
      "Sol:  [-3.66492944e-01  1.35543049e-07]\n",
      "Init:  [   0. -100.]\n",
      "Success:  True\n",
      "-----------\n",
      "Sol:  [-6.70076405e-01  1.76981689e-08]\n",
      "Init:  [  0. -50.]\n",
      "Success:  True\n",
      "-----------\n",
      "Sol:  [-7.47453644e-01  1.72630824e-08]\n",
      "Init:  [0. 0.]\n",
      "Success:  True\n",
      "-----------\n",
      "Sol:  [-4.45128899e-04  5.41830092e-05]\n",
      "Init:  [ 0. 50.]\n",
      "Success:  True\n",
      "-----------\n",
      "Sol:  [-1.52181734e-06  5.58151019e+01]\n",
      "Init:  [  0. 100.]\n",
      "Success:  True\n",
      "-----------\n",
      "Sol:  [-1.60091254e-06  1.05747410e+02]\n",
      "Init:  [  0. 150.]\n",
      "Success:  True\n",
      "-----------\n",
      "Sol:  [-1.07579920e+00  5.28777388e-09]\n",
      "Init:  [  50. -150.]\n",
      "Success:  True\n",
      "-----------\n",
      "Sol:  [-4.34607423e-01  7.00904070e-08]\n",
      "Init:  [  50. -100.]\n",
      "Success:  True\n",
      "-----------\n",
      "Sol:  [-1.27363765e+00  2.73007728e-09]\n",
      "Init:  [ 50. -50.]\n",
      "Success:  True\n",
      "-----------\n",
      "Sol:  [-2.95189826e-01  1.11304843e-07]\n",
      "Init:  [50.  0.]\n",
      "Success:  True\n",
      "-----------\n",
      "Sol:  [ 5.38685723 16.08846923]\n",
      "Init:  [50. 50.]\n",
      "Success:  False\n",
      "-----------\n",
      "Sol:  [13.44270983 72.42840687]\n",
      "Init:  [ 50. 100.]\n",
      "Success:  False\n",
      "-----------\n",
      "Sol:  [ 20.04194023 127.47969884]\n",
      "Init:  [ 50. 150.]\n",
      "Success:  False\n",
      "-----------\n",
      "Sol:  [-6.30192712e-01  2.38145973e-08]\n",
      "Init:  [ 100. -150.]\n",
      "Success:  True\n",
      "-----------\n",
      "Sol:  [-8.56199694e-01  1.12268422e-08]\n",
      "Init:  [ 100. -100.]\n",
      "Success:  True\n",
      "-----------\n",
      "Sol:  [-6.82057684e-02  8.69855823e-06]\n",
      "Init:  [100. -50.]\n",
      "Success:  True\n",
      "-----------\n",
      "Sol:  [-2.38201743e-02  1.28115467e-06]\n",
      "Init:  [100.   0.]\n",
      "Success:  True\n",
      "-----------\n",
      "Sol:  [6.98506995e-03 1.18906253e+05]\n",
      "Init:  [100.  50.]\n",
      "Success:  False\n",
      "-----------\n",
      "Sol:  [10.2932584  36.82113123]\n",
      "Init:  [100. 100.]\n",
      "Success:  False\n",
      "-----------\n",
      "Sol:  [29.00774417 95.50059075]\n",
      "Init:  [100. 150.]\n",
      "Success:  False\n",
      "-----------\n",
      "Sol:  [-1.80500927e+00 -4.15837554e-10]\n",
      "Init:  [ 150. -150.]\n",
      "Success:  True\n",
      "-----------\n",
      "Sol:  [-1.84664976e+00 -7.12205940e-10]\n",
      "Init:  [ 150. -100.]\n",
      "Success:  True\n",
      "-----------\n",
      "Sol:  [-7.39348279e-02  1.30438992e-06]\n",
      "Init:  [150. -50.]\n",
      "Success:  True\n",
      "-----------\n",
      "Sol:  [-6.67975556e-03  6.35788942e-06]\n",
      "Init:  [150.   0.]\n",
      "Success:  True\n",
      "-----------\n",
      "Sol:  [5.03498416e-06 2.77076495e+04]\n",
      "Init:  [150.  50.]\n",
      "Success:  True\n",
      "-----------\n",
      "Sol:  [5.94735606e-03 3.54195828e+04]\n",
      "Init:  [150. 100.]\n",
      "Success:  False\n",
      "-----------\n",
      "Sol:  [14.34355707 56.8868782 ]\n",
      "Init:  [150. 150.]\n",
      "Success:  False\n"
     ]
    },
    {
     "data": {
      "image/png": "[encoded data removed]",
      "text/plain": [
       "<Figure size 432x288 with 1 Axes>"
      ]
     },
     "metadata": {
      "needs_background": "light"
     },
     "output_type": "display_data"
    }
   ],
   "source": [
    "from scipy.optimize import *\n",
    "\n",
    "bnds = ((None, 0), (0, None))\n",
    "ineq_cons = []\n",
    "#ineq_cons.append({\n",
    "#    'type': 'ineq',\n",
    "#    'fun' : h_1,\n",
    "#    'ub' : array([0.0]),\n",
    "#    'lb' : array([-inf]),\n",
    "#    'jac' : jac_h_1\n",
    "#})\n",
    "\n",
    "#ineq_cons.append({\n",
    "#    'type': 'ineq',\n",
    "#    'fun' : h_2,\n",
    "#    'ub' : array([0.0]),\n",
    "#    'lb' : array([-inf]),\n",
    "#    'jac' : jac_h_2\n",
    "#})\n",
    "\n",
    "ineq_cons.append({\n",
    "    'type': 'ineq',\n",
    "    'fun' : h_3,\n",
    "    'ub' : array([0.0]),\n",
    "    'lb' : array([-inf]),\n",
    "    'jac' : jac_h_3\n",
    "})\n",
    "\n",
    "ineq_cons.append({\n",
    "    'type': 'ineq',\n",
    "    'fun' : h_4,\n",
    "    'ub' : array([0.0]),\n",
    "    'lb' : array([-inf]),\n",
    "    'jac' : jac_h_4\n",
    "})\n",
    "\n",
    "def f(X):\n",
    "    return X[1]\n",
    "\n",
    "def gen_init_points():\n",
    "    list_pts = []\n",
    "    x_1_list = arange(-150, 150 + 0.1, 50)\n",
    "    x_2_list = arange(-150, 150 + 0.1, 50)\n",
    "    for idx1 in range(x_1_list.shape[0]):\n",
    "        for idx2 in range(x_2_list.shape[0]):\n",
    "            list_pts.append(array([ x_1_list[idx1], x_2_list[idx2] ]))\n",
    "    return list_pts\n",
    "\n",
    "list_pts = gen_init_points()\n",
    "list_sol = []\n",
    "list_fail = []\n",
    "for X_init in list_pts:\n",
    "    sol = minimize(f, X_init, constraints=ineq_cons, method=\"trust-constr\", bounds=bnds)\n",
    "    print(\"-----------\")\n",
    "    print(\"Sol: \", sol[\"x\"])\n",
    "    print(\"Init: \", X_init)\n",
    "    print(\"Success: \", sol[\"success\"])\n",
    "    if(sol[\"success\"]):\n",
    "        list_sol.append(sol[\"x\"])\n",
    "    else:\n",
    "        list_fail.append(sol[\"x\"])\n",
    "scatter( array(list_sol)[:,0], array(list_sol)[:,1], c=\"blue\")\n",
    "scatter( array(list_fail)[:,0], array(list_fail)[:,1], c=\"red\")\n",
    "show()\n",
    "    "
   ]
  },
  {
   "cell_type": "code",
   "execution_count": null,
   "metadata": {},
   "outputs": [],
   "source": []
  }
 ],
 "metadata": {
  "kernelspec": {
   "display_name": "Python 3",
   "language": "python",
   "name": "python3"
  },
  "language_info": {
   "codemirror_mode": {
    "name": "ipython",
    "version": 3
   },
   "file_extension": ".py",
   "mimetype": "text/x-python",
   "name": "python",
   "nbconvert_exporter": "python",
   "pygments_lexer": "ipython3",
   "version": "3.7.4"
  }
 },
 "nbformat": 4,
 "nbformat_minor": 2
}
