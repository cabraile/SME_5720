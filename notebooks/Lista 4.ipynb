{
 "cells": [
  {
   "cell_type": "markdown",
   "metadata": {},
   "source": [
    "# LISTA 4"
   ]
  },
  {
   "cell_type": "markdown",
   "metadata": {},
   "source": [
    "Problema\n",
    "\n",
    "$\n",
    "\\text{min} \\quad x_2\\\\\n",
    "\\text{s.a.:} \\\\\n",
    "\\quad\\quad        x_1 \\leq 0 \\\\\n",
    "\\quad\\quad        -x_2 \\leq 0 \\\\\n",
    "\\quad\\quad        x^2_1 x_x \\leq 0 \\\\\n",
    "\\quad\\quad        x^3_1 x_x \\leq 0\n",
    "$"
   ]
  },
  {
   "cell_type": "markdown",
   "metadata": {},
   "source": [
    "# 1. Gráficos das restrições"
   ]
  },
  {
   "cell_type": "markdown",
   "metadata": {},
   "source": [
    "## Bibliotecas"
   ]
  },
  {
   "cell_type": "code",
   "execution_count": 112,
   "metadata": {},
   "outputs": [],
   "source": [
    "from numpy import *\n",
    "from numpy.linalg import *\n",
    "from matplotlib.pyplot import *\n",
    "from matplotlib.collections import *"
   ]
  },
  {
   "cell_type": "markdown",
   "metadata": {},
   "source": [
    "## Funções de desigualdade"
   ]
  },
  {
   "cell_type": "code",
   "execution_count": 113,
   "metadata": {},
   "outputs": [],
   "source": [
    "def h_1(X):\n",
    "    return X[0,0]\n",
    "def h_2(X):\n",
    "    return -X[1,0]\n",
    "def h_3(X):\n",
    "    return X[0,0]**2 * X[1,0]\n",
    "def h_4(X):\n",
    "    return X[0,0]**3 * X[1,0]"
   ]
  },
  {
   "cell_type": "markdown",
   "metadata": {},
   "source": [
    "## 1.a Encontrar a região viável"
   ]
  },
  {
   "cell_type": "markdown",
   "metadata": {},
   "source": [
    "A região viável $\\Omega$ é a região onde todas as restrições são satisfeitas $$\\Omega:=\\{ X : h_1(X) \\leq 0 \\cap h_2(X) \\leq 0 \\cap h_3(X) \\leq 0 \\cap h_4(X) \\leq 0 \\}$$"
   ]
  },
  {
   "cell_type": "code",
   "execution_count": 117,
   "metadata": {},
   "outputs": [],
   "source": [
    "def h_inters(X): # Intersection\n",
    "    h1 = h_1(X)\n",
    "    h2 = h_2(X)\n",
    "    h3 = h_3(X)\n",
    "    h4 = h_4(X)\n",
    "    if h1 <= 0 and h2 <= 0 and h3 <= 0 and h4 <= 0:\n",
    "        return True\n",
    "    return False"
   ]
  },
  {
   "cell_type": "markdown",
   "metadata": {},
   "source": [
    "Desta forma, o resultado encontrado está apresentado na célula abaixo (os resultados foram obtidos antes de forma analítica)."
   ]
  },
  {
   "cell_type": "code",
   "execution_count": null,
   "metadata": {},
   "outputs": [],
   "source": [
    "im_range = 100.0\n",
    "im_step = 1.0\n",
    "\n",
    "def get_viable_region_matrix(h):\n",
    "    x_1_list = arange(-im_range, im_range + 0.1, 1)\n",
    "    x_2_list = arange(-im_range, im_range + 0.1, 1)\n",
    "    X_1, X_2 = meshgrid(x_1_list, x_2_list)\n",
    "    H_list = zeros(X_1.shape)\n",
    "    for i in range(X_1.shape[0]):\n",
    "        for j in range(X_2.shape[1]):\n",
    "            X = array([\n",
    "                [X_1[i,j]],\n",
    "                [X_2[i,j]]\n",
    "            ])\n",
    "            H_list[i,j] = h(X)\n",
    "    return H_list\n",
    "\n",
    "def plot_constraints(H_list):\n",
    "    fig = figure(figsize=(6,6))\n",
    "    imshow(\n",
    "        H_list, interpolation='none', origin='lower', \n",
    "        cmap=cm.gray, extent=(-im_range, im_range, -im_range, im_range)\n",
    "    )\n",
    "    \n",
    "H_inters_list = get_constraint_region_matrix(h_inters)\n",
    "plot_constraints(H_inters_list)"
   ]
  },
  {
   "cell_type": "markdown",
   "metadata": {},
   "source": [
    "A região viável está em \n",
    "\n",
    "$\n",
    "\\Omega = \\{ X : (x_1 = 0 \\cap  x_2 \\geq 0) \\cup (x_2 = 0 \\cap  x_1 \\leq 0)\\}\n",
    "$"
   ]
  },
  {
   "cell_type": "markdown",
   "metadata": {},
   "source": [
    "# 2. Encontrar o conjunto de otimizadores $\\Omega^*=\\{X^*\\}$"
   ]
  },
  {
   "cell_type": "markdown",
   "metadata": {},
   "source": [
    "## 2.a. Condições de Karush-Kuhn-Tucker (KKT)"
   ]
  },
  {
   "cell_type": "markdown",
   "metadata": {},
   "source": [
    "O ponto ótimo deve respeitas as condições:\n",
    "\n",
    "1. $\\nabla f(X^*)=-\\sum_{i=1}^{4}{\\nabla h_i(X^*) \\mu_i}$\n",
    "2. $ h_i(X^*) \\mu_i = 0$\n",
    "3. $ \\mu_i \\geq 0 $"
   ]
  },
  {
   "cell_type": "markdown",
   "metadata": {},
   "source": [
    "## 2.b. Condição 1"
   ]
  },
  {
   "cell_type": "markdown",
   "metadata": {},
   "source": [
    "**Cálculo dos gradientes**\n",
    "\n",
    "$\\nabla f(X) = \\begin{bmatrix}\n",
    "0\\\\\n",
    "1\n",
    "\\end{bmatrix}$,\n",
    "$\\nabla h_1(X) = \\begin{bmatrix}\n",
    "1\\\\\n",
    "0\n",
    "\\end{bmatrix}$, \n",
    "$\\nabla h_2(X) = \\begin{bmatrix}\n",
    "0\\\\\n",
    "-1\n",
    "\\end{bmatrix}$,\n",
    "$\\nabla h_3(X) = \\begin{bmatrix}\n",
    "2 x_1 x_2\\\\\n",
    "x_1^2\n",
    "\\end{bmatrix}$,\n",
    "$\\nabla h_4(X) = \\begin{bmatrix}\n",
    "3 x_1^2 x_2\\\\\n",
    "x_1^3\n",
    "\\end{bmatrix}$\n"
   ]
  },
  {
   "cell_type": "markdown",
   "metadata": {},
   "source": [
    "**Aplicação na condição 1**\n",
    "\n",
    "$\n",
    "\\begin{bmatrix}\n",
    "    0\\\\\n",
    "    1\n",
    "\\end{bmatrix}=- \\begin{pmatrix}\n",
    "\\begin{bmatrix}\n",
    "    1\\\\\n",
    "    0\n",
    "\\end{bmatrix}\\mu_1+\n",
    "\\begin{bmatrix}\n",
    "    0\\\\\n",
    "    -1\n",
    "\\end{bmatrix}\\mu_2+\n",
    "\\begin{bmatrix}\n",
    "    2 x_1 x_2\\\\\n",
    "    x_1^2\n",
    "\\end{bmatrix}\\mu_3+\n",
    "\\begin{bmatrix}\n",
    "    3 x_1^2 x_2\\\\\n",
    "    x_1^3\n",
    "\\end{bmatrix}\\mu_4\n",
    "\\end{pmatrix}\n",
    "$"
   ]
  },
  {
   "cell_type": "markdown",
   "metadata": {},
   "source": [
    "**O que leva ao sistema de equações:**\n",
    "\\begin{matrix}\n",
    "\\text{Eq. 2.b.1} & 1\\mu_1 & + & 0\\mu_2 & + & 2x_1 x_2\\mu_3  & + & 3 x_1^2 x_2 \\mu_4 & = & 0\\\\ \n",
    "\\text{Eq. 2.b.2} & 0\\mu_1 & + & -1\\mu_2 & + & x_1^2\\mu_3 & + & x_1^3\\mu_4 & = & -1\n",
    "\\end{matrix}"
   ]
  },
  {
   "cell_type": "markdown",
   "metadata": {},
   "source": [
    "**Se dividirmos o conjunto viável em dois, temos**\n",
    "1. $\\Omega_1 = \\{ X : x_1=0 \\cap x_2 \\geq 0 \\}$\n",
    "2. $\\Omega_2 = \\{ X : x_1\\leq 0 \\cap x_2 = 0 \\}$"
   ]
  },
  {
   "cell_type": "markdown",
   "metadata": {},
   "source": [
    "**Da Equação 2.b.1**, temos que $\\mu_1=0$, visto que ou $x_1 = 0$ ou $x_2 = 0$"
   ]
  },
  {
   "cell_type": "markdown",
   "metadata": {},
   "source": [
    "**Desta forma, resta a equação 2.b.2**\n",
    "\n",
    "**2.b.2:** $\n",
    "-1\\mu_2 +x_1^2\\mu_3 + x_1^3\\mu_4 = -1\n",
    "$"
   ]
  },
  {
   "cell_type": "markdown",
   "metadata": {},
   "source": [
    "## 2.c. Condição  2"
   ]
  },
  {
   "cell_type": "markdown",
   "metadata": {},
   "source": [
    "$\n",
    "\\text{a.} \\quad x_1 \\mu_1 = 0 \\\\\n",
    "\\text{b.} \\quad - x_2 \\mu_2 = 0  \\\\\n",
    "\\text{c.} \\quad x_1^2 x_2 \\mu_3 = 0 \\\\\n",
    "\\text{d.} \\quad x_1^3 x_2 \\mu_4 = 0 \\\\\n",
    "$\n",
    "\n",
    "* A equação **a** é sempre satisfeita, visto que $\\mu_1 = 0$, $\\forall x_1 \\in \\mathbb{R}$.\n",
    "* As equações **c** e **d** são sempre satisfeitas, visto que $x_1=0$ ou $x_2=0$, $\\forall \\mu_3, \\mu_4 \\in \\mathbb{R}$\n",
    "* Cabe prosseguir com **b**"
   ]
  },
  {
   "cell_type": "markdown",
   "metadata": {},
   "source": [
    "**A equação b. da condição 2 (Equação 2.c.b)** pode ser usada em conjunto da **Equação 2.b.2**, tal que:\n",
    "\n",
    "* $-1\\mu_2 +x_1^2\\mu_3 + x_1^3\\mu_4 = -1$\n",
    "    * $\\mu_2 = x_1^2\\mu_3 + x_1^3\\mu_4 +1$\n",
    "* **Na Equação 2.c.b:** $-x_2( x_1^2\\mu_3 + x_1^3\\mu_4 +1) = 0$, \n",
    "    * Isto leva a $x_2=0$\n",
    "    \n",
    "Logo, sabemos que os pontos que minimizam o problema estão contidos no conjunto viável $\\Omega_2$, ou seja, $x_1 \\leq 0$ e $x_2=0$ "
   ]
  },
  {
   "cell_type": "markdown",
   "metadata": {},
   "source": [
    "## 2.d Condição 3\n",
    "Ainda resta provar que $\\mu_i \\geq 0$, $i=1,2,3,4$. Pela condição 1, sabemos que $\\mu_1 = 0$ e pela condição 2 temos que $\\mu_3,\\mu_4 \\in \\mathbb{R}$. Com a condição 3, temos que $\\mu_3,\\mu_4 \\geq 0$. Logo, precisamos que $\\mu_2 \\geq 0$. Assim\n",
    "\n",
    "$\n",
    "\\mu_2 = x_1^2 \\mu_3 + x_1^3 \\mu_4 + 1 \\geq 0\n",
    "$"
   ]
  },
  {
   "cell_type": "code",
   "execution_count": null,
   "metadata": {},
   "outputs": [],
   "source": []
  }
 ],
 "metadata": {
  "kernelspec": {
   "display_name": "Python 3",
   "language": "python",
   "name": "python3"
  },
  "language_info": {
   "codemirror_mode": {
    "name": "ipython",
    "version": 3
   },
   "file_extension": ".py",
   "mimetype": "text/x-python",
   "name": "python",
   "nbconvert_exporter": "python",
   "pygments_lexer": "ipython3",
   "version": "3.7.4"
  }
 },
 "nbformat": 4,
 "nbformat_minor": 2
}
