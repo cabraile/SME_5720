{
 "cells": [
  {
   "cell_type": "markdown",
   "metadata": {},
   "source": [
    "# LISTA 4"
   ]
  },
  {
   "cell_type": "markdown",
   "metadata": {},
   "source": [
    "Problema\n",
    "\n",
    "$\n",
    "\\text{min} \\quad x_2\\\\\n",
    "\\text{s.a.:} \\\\\n",
    "\\quad\\quad        x_1 \\leq 0 \\\\\n",
    "\\quad\\quad        -x_2 \\leq 0 \\\\\n",
    "\\quad\\quad        x^2_1 x_x \\leq 0 \\\\\n",
    "\\quad\\quad        x^3_1 x_x \\leq 0\n",
    "$"
   ]
  },
  {
   "cell_type": "markdown",
   "metadata": {},
   "source": [
    "# 1. Gráficos das restrições"
   ]
  },
  {
   "cell_type": "markdown",
   "metadata": {},
   "source": [
    "## Bibliotecas"
   ]
  },
  {
   "cell_type": "code",
   "execution_count": 140,
   "metadata": {},
   "outputs": [],
   "source": [
    "from numpy import *\n",
    "from numpy.linalg import *\n",
    "from matplotlib.pyplot import *\n",
    "from matplotlib.collections import *"
   ]
  },
  {
   "cell_type": "markdown",
   "metadata": {},
   "source": [
    "## Funções de desigualdade"
   ]
  },
  {
   "cell_type": "code",
   "execution_count": 152,
   "metadata": {},
   "outputs": [],
   "source": [
    "def h_1(X):\n",
    "    return X[0]\n",
    "def h_2(X):\n",
    "    return -X[1]\n",
    "def h_3(X):\n",
    "    return X[0]**2 * X[1]\n",
    "def h_4(X):\n",
    "    return X[0]**3 * X[1]"
   ]
  },
  {
   "cell_type": "markdown",
   "metadata": {},
   "source": [
    "## 1.a Encontrar a região viável"
   ]
  },
  {
   "cell_type": "markdown",
   "metadata": {},
   "source": [
    "A região viável $\\Omega$ é a região onde todas as restrições são satisfeitas $$\\Omega:=\\{ X : h_1(X) \\leq 0 \\cap h_2(X) \\leq 0 \\cap h_3(X) \\leq 0 \\cap h_4(X) \\leq 0 \\}$$"
   ]
  },
  {
   "cell_type": "code",
   "execution_count": 142,
   "metadata": {},
   "outputs": [],
   "source": [
    "def h_inters(X): # Intersection\n",
    "    h1 = h_1(X)\n",
    "    h2 = h_2(X)\n",
    "    h3 = h_3(X)\n",
    "    h4 = h_4(X)\n",
    "    if h1 <= 0 and h2 <= 0 and h3 <= 0 and h4 <= 0:\n",
    "        return True\n",
    "    return False"
   ]
  },
  {
   "cell_type": "markdown",
   "metadata": {},
   "source": [
    "Desta forma, o resultado encontrado está apresentado na célula abaixo (os resultados foram obtidos antes de forma analítica)."
   ]
  },
  {
   "cell_type": "code",
   "execution_count": 143,
   "metadata": {},
   "outputs": [
    {
     "data": {
      "image/png": "[encoded data removed]",
      "text/plain": [
       "<Figure size 432x432 with 1 Axes>"
      ]
     },
     "metadata": {
      "needs_background": "light"
     },
     "output_type": "display_data"
    }
   ],
   "source": [
    "im_range = 100.0\n",
    "im_step = 1.0\n",
    "\n",
    "def get_viable_region_matrix(h):\n",
    "    x_1_list = arange(-im_range, im_range + 0.1, 1)\n",
    "    x_2_list = arange(-im_range, im_range + 0.1, 1)\n",
    "    X_1, X_2 = meshgrid(x_1_list, x_2_list)\n",
    "    H_list = zeros(X_1.shape)\n",
    "    for i in range(X_1.shape[0]):\n",
    "        for j in range(X_2.shape[1]):\n",
    "            X = array([\n",
    "                [X_1[i,j]],\n",
    "                [X_2[i,j]]\n",
    "            ])\n",
    "            H_list[i,j] = h(X)\n",
    "    return H_list\n",
    "\n",
    "def plot_constraints(H_list):\n",
    "    fig = figure(figsize=(6,6))\n",
    "    imshow(\n",
    "        H_list, interpolation='none', origin='lower', \n",
    "        cmap=cm.gray, extent=(-im_range, im_range, -im_range, im_range)\n",
    "    )\n",
    "    \n",
    "H_inters_list = get_constraint_region_matrix(h_inters)\n",
    "plot_constraints(H_inters_list)"
   ]
  },
  {
   "cell_type": "markdown",
   "metadata": {},
   "source": [
    "A região viável está em \n",
    "\n",
    "$\n",
    "\\Omega = \\{ X : (x_1 = 0 \\cap  x_2 \\geq 0) \\cup (x_2 = 0 \\cap  x_1 \\leq 0)\\}\n",
    "$"
   ]
  },
  {
   "cell_type": "markdown",
   "metadata": {},
   "source": [
    "# 2. Encontrar o conjunto de otimizadores $\\Omega^*=\\{X^*\\}$"
   ]
  },
  {
   "cell_type": "markdown",
   "metadata": {},
   "source": [
    "## 2.a. Condições de Karush-Kuhn-Tucker (KKT)"
   ]
  },
  {
   "cell_type": "markdown",
   "metadata": {},
   "source": [
    "O ponto ótimo deve respeitas as condições:\n",
    "\n",
    "1. $\\nabla f(X^*)=-\\sum_{i=1}^{4}{\\nabla h_i(X^*) \\mu_i}$\n",
    "2. $ h_i(X^*) \\mu_i = 0$\n",
    "3. $ \\mu_i \\geq 0 $"
   ]
  },
  {
   "cell_type": "markdown",
   "metadata": {},
   "source": [
    "## 2.b. Condição 1"
   ]
  },
  {
   "cell_type": "markdown",
   "metadata": {},
   "source": [
    "**Cálculo dos gradientes**\n",
    "\n",
    "$\\nabla f(X) = \\begin{bmatrix}\n",
    "0\\\\\n",
    "1\n",
    "\\end{bmatrix}$,\n",
    "$\\nabla h_1(X) = \\begin{bmatrix}\n",
    "1\\\\\n",
    "0\n",
    "\\end{bmatrix}$, \n",
    "$\\nabla h_2(X) = \\begin{bmatrix}\n",
    "0\\\\\n",
    "-1\n",
    "\\end{bmatrix}$,\n",
    "$\\nabla h_3(X) = \\begin{bmatrix}\n",
    "2 x_1 x_2\\\\\n",
    "x_1^2\n",
    "\\end{bmatrix}$,\n",
    "$\\nabla h_4(X) = \\begin{bmatrix}\n",
    "3 x_1^2 x_2\\\\\n",
    "x_1^3\n",
    "\\end{bmatrix}$\n"
   ]
  },
  {
   "cell_type": "markdown",
   "metadata": {},
   "source": [
    "**Aplicação na condição 1**\n",
    "\n",
    "$\n",
    "\\begin{bmatrix}\n",
    "    0\\\\\n",
    "    1\n",
    "\\end{bmatrix}=- \\begin{pmatrix}\n",
    "\\begin{bmatrix}\n",
    "    1\\\\\n",
    "    0\n",
    "\\end{bmatrix}\\mu_1+\n",
    "\\begin{bmatrix}\n",
    "    0\\\\\n",
    "    -1\n",
    "\\end{bmatrix}\\mu_2+\n",
    "\\begin{bmatrix}\n",
    "    2 x_1 x_2\\\\\n",
    "    x_1^2\n",
    "\\end{bmatrix}\\mu_3+\n",
    "\\begin{bmatrix}\n",
    "    3 x_1^2 x_2\\\\\n",
    "    x_1^3\n",
    "\\end{bmatrix}\\mu_4\n",
    "\\end{pmatrix}\n",
    "$"
   ]
  },
  {
   "cell_type": "markdown",
   "metadata": {},
   "source": [
    "**O que leva ao sistema de equações:**\n",
    "\\begin{matrix}\n",
    "\\text{Eq. 2.b.1} & 1\\mu_1 & + & 0\\mu_2 & + & 2x_1 x_2\\mu_3  & + & 3 x_1^2 x_2 \\mu_4 & = & 0\\\\ \n",
    "\\text{Eq. 2.b.2} & 0\\mu_1 & + & -1\\mu_2 & + & x_1^2\\mu_3 & + & x_1^3\\mu_4 & = & -1\n",
    "\\end{matrix}"
   ]
  },
  {
   "cell_type": "markdown",
   "metadata": {},
   "source": [
    "**Se dividirmos o conjunto viável em dois, temos**\n",
    "1. $\\Omega_1 = \\{ X : x_1=0 \\cap x_2 \\geq 0 \\}$\n",
    "2. $\\Omega_2 = \\{ X : x_1\\leq 0 \\cap x_2 = 0 \\}$"
   ]
  },
  {
   "cell_type": "markdown",
   "metadata": {},
   "source": [
    "**Da Equação 2.b.1**, temos que $\\mu_1=0$, visto que ou $x_1 = 0$ ou $x_2 = 0$"
   ]
  },
  {
   "cell_type": "markdown",
   "metadata": {},
   "source": [
    "**Desta forma, resta a equação 2.b.2**\n",
    "\n",
    "**2.b.2:** $\n",
    "-1\\mu_2 +x_1^2\\mu_3 + x_1^3\\mu_4 = -1\n",
    "$"
   ]
  },
  {
   "cell_type": "markdown",
   "metadata": {},
   "source": [
    "## 2.c. Condição  2"
   ]
  },
  {
   "cell_type": "markdown",
   "metadata": {},
   "source": [
    "$\n",
    "\\text{a.} \\quad x_1 \\mu_1 = 0 \\\\\n",
    "\\text{b.} \\quad - x_2 \\mu_2 = 0  \\\\\n",
    "\\text{c.} \\quad x_1^2 x_2 \\mu_3 = 0 \\\\\n",
    "\\text{d.} \\quad x_1^3 x_2 \\mu_4 = 0 \\\\\n",
    "$\n",
    "\n",
    "* A equação **a** é sempre satisfeita, visto que $\\mu_1 = 0$, $\\forall x_1 \\in \\mathbb{R}$.\n",
    "* As equações **c** e **d** são sempre satisfeitas, visto que $x_1=0$ ou $x_2=0$, $\\forall \\mu_3, \\mu_4 \\in \\mathbb{R}$\n",
    "* Cabe prosseguir com **b**"
   ]
  },
  {
   "cell_type": "markdown",
   "metadata": {},
   "source": [
    "**A equação b. da condição 2 (Equação 2.c.b)** pode ser usada em conjunto da **Equação 2.b.2**, tal que:\n",
    "\n",
    "* $-1\\mu_2 +x_1^2\\mu_3 + x_1^3\\mu_4 = -1$\n",
    "    * $\\mu_2 = x_1^2\\mu_3 + x_1^3\\mu_4 +1$\n",
    "* **Na Equação 2.c.b:** $-x_2( x_1^2\\mu_3 + x_1^3\\mu_4 +1) = 0$, \n",
    "    * Isto leva a $x_2=0$\n",
    "    \n",
    "Logo, sabemos que os pontos que minimizam o problema estão contidos no conjunto viável $\\Omega_2$, ou seja, $x_1 \\leq 0$ e $x_2=0$ "
   ]
  },
  {
   "cell_type": "markdown",
   "metadata": {},
   "source": [
    "## 2.d Condição 3\n",
    "Ainda resta provar que $\\mu_i \\geq 0$, $i=1,2,3,4$. Pela condição 1, sabemos que $\\mu_1 = 0$ e pela condição 2 temos que $\\mu_3,\\mu_4 \\in \\mathbb{R}$. Com a condição 3, temos que $\\mu_3,\\mu_4 \\geq 0$. Logo, precisamos que $\\mu_2 \\geq 0$. Assim\n",
    "\n",
    "$\n",
    "\\mu_2 = x_1^2 \\mu_3 + x_1^3 \\mu_4 + 1 \\geq 0\n",
    "$\n",
    "\n",
    "Com um pouco de manipulação, chegamos a\n",
    "\n",
    "$\n",
    "\\mu_3 + x_1 \\mu_4 \\geq \\frac{-1}{x_1^2}\n",
    "$\n",
    "\n",
    "Como $\\frac{-1}{x_1^2} \\leq 0$, então\n",
    "\n",
    "$\n",
    "\\mu_3 + x_1 \\mu_4 \\geq 0 \\Rightarrow x_1 \\geq \\frac{-\\mu_3}{\\mu_4}\n",
    "$\n",
    "\n",
    "Como $\\frac{-\\mu_3}{\\mu_4} \\leq 0$, então\n",
    "\n",
    "$\n",
    "x_1 \\geq 0\n",
    "$"
   ]
  },
  {
   "cell_type": "markdown",
   "metadata": {},
   "source": [
    "Sabemos que $X \\in \\Omega_2$, portanto, para existir, $x_1=0$. De fato, se $x_1 = 0$, temos que $\\mu_2=1\\geq 0$.\n",
    "\n",
    "Portanto, o minimizador $X^*$ de $f(X)$ é o ponto $X^*=(0,0)$."
   ]
  },
  {
   "cell_type": "markdown",
   "metadata": {},
   "source": [
    "## Dúvida\n",
    "A partir do momento que definimos que a solução estava contida em $\\Omega_2$, temos que $f(x)=x_2=0$. Isto não deveria ser o suficiente para definir que $\\{X^*\\}$ na verdade é o conjunto $\\Omega_2$? Afinal, independente de $x_1$, $f(X)$ terá o mesmo valor. Onde parar esta questão?"
   ]
  },
  {
   "cell_type": "markdown",
   "metadata": {},
   "source": [
    "# 3. Implementar o problema"
   ]
  },
  {
   "cell_type": "code",
   "execution_count": 159,
   "metadata": {},
   "outputs": [
    {
     "ename": "TypeError",
     "evalue": "unsupported operand type(s) for *: 'OptimizeResult' and 'OptimizeResult'",
     "output_type": "error",
     "traceback": [
      "\u001b[0;31m---------------------------------------------------------------------------\u001b[0m",
      "\u001b[0;31mTypeError\u001b[0m                                 Traceback (most recent call last)",
      "\u001b[0;32m<ipython-input-159-9d04864daf68>\u001b[0m in \u001b[0;36m<module>\u001b[0;34m\u001b[0m\n\u001b[1;32m     37\u001b[0m     \u001b[0mlist_sol\u001b[0m\u001b[0;34m.\u001b[0m\u001b[0mappend\u001b[0m\u001b[0;34m(\u001b[0m\u001b[0msol\u001b[0m\u001b[0;34m[\u001b[0m\u001b[0;34m\"x\"\u001b[0m\u001b[0;34m]\u001b[0m\u001b[0;34m)\u001b[0m\u001b[0;34m\u001b[0m\u001b[0;34m\u001b[0m\u001b[0m\n\u001b[1;32m     38\u001b[0m \u001b[0;34m\u001b[0m\u001b[0m\n\u001b[0;32m---> 39\u001b[0;31m \u001b[0mprint\u001b[0m\u001b[0;34m(\u001b[0m\u001b[0mwhere\u001b[0m\u001b[0;34m(\u001b[0m \u001b[0mnorm\u001b[0m\u001b[0;34m(\u001b[0m\u001b[0msol\u001b[0m\u001b[0;34m)\u001b[0m \u001b[0;34m<\u001b[0m \u001b[0;36m1e-5\u001b[0m\u001b[0;34m)\u001b[0m\u001b[0;34m)\u001b[0m\u001b[0;34m\u001b[0m\u001b[0;34m\u001b[0m\u001b[0m\n\u001b[0m\u001b[1;32m     40\u001b[0m \u001b[0;34m\u001b[0m\u001b[0m\n",
      "\u001b[0;32m<__array_function__ internals>\u001b[0m in \u001b[0;36mnorm\u001b[0;34m(*args, **kwargs)\u001b[0m\n",
      "\u001b[0;32m~/miniconda3/envs/notebook/lib/python3.7/site-packages/numpy/linalg/linalg.py\u001b[0m in \u001b[0;36mnorm\u001b[0;34m(x, ord, axis, keepdims)\u001b[0m\n\u001b[1;32m   2480\u001b[0m                 \u001b[0msqnorm\u001b[0m \u001b[0;34m=\u001b[0m \u001b[0mdot\u001b[0m\u001b[0;34m(\u001b[0m\u001b[0mx\u001b[0m\u001b[0;34m.\u001b[0m\u001b[0mreal\u001b[0m\u001b[0;34m,\u001b[0m \u001b[0mx\u001b[0m\u001b[0;34m.\u001b[0m\u001b[0mreal\u001b[0m\u001b[0;34m)\u001b[0m \u001b[0;34m+\u001b[0m \u001b[0mdot\u001b[0m\u001b[0;34m(\u001b[0m\u001b[0mx\u001b[0m\u001b[0;34m.\u001b[0m\u001b[0mimag\u001b[0m\u001b[0;34m,\u001b[0m \u001b[0mx\u001b[0m\u001b[0;34m.\u001b[0m\u001b[0mimag\u001b[0m\u001b[0;34m)\u001b[0m\u001b[0;34m\u001b[0m\u001b[0;34m\u001b[0m\u001b[0m\n\u001b[1;32m   2481\u001b[0m             \u001b[0;32melse\u001b[0m\u001b[0;34m:\u001b[0m\u001b[0;34m\u001b[0m\u001b[0;34m\u001b[0m\u001b[0m\n\u001b[0;32m-> 2482\u001b[0;31m                 \u001b[0msqnorm\u001b[0m \u001b[0;34m=\u001b[0m \u001b[0mdot\u001b[0m\u001b[0;34m(\u001b[0m\u001b[0mx\u001b[0m\u001b[0;34m,\u001b[0m \u001b[0mx\u001b[0m\u001b[0;34m)\u001b[0m\u001b[0;34m\u001b[0m\u001b[0;34m\u001b[0m\u001b[0m\n\u001b[0m\u001b[1;32m   2483\u001b[0m             \u001b[0mret\u001b[0m \u001b[0;34m=\u001b[0m \u001b[0msqrt\u001b[0m\u001b[0;34m(\u001b[0m\u001b[0msqnorm\u001b[0m\u001b[0;34m)\u001b[0m\u001b[0;34m\u001b[0m\u001b[0;34m\u001b[0m\u001b[0m\n\u001b[1;32m   2484\u001b[0m             \u001b[0;32mif\u001b[0m \u001b[0mkeepdims\u001b[0m\u001b[0;34m:\u001b[0m\u001b[0;34m\u001b[0m\u001b[0;34m\u001b[0m\u001b[0m\n",
      "\u001b[0;32m<__array_function__ internals>\u001b[0m in \u001b[0;36mdot\u001b[0;34m(*args, **kwargs)\u001b[0m\n",
      "\u001b[0;31mTypeError\u001b[0m: unsupported operand type(s) for *: 'OptimizeResult' and 'OptimizeResult'"
     ]
    }
   ],
   "source": [
    "from scipy.optimize import *\n",
    "\n",
    "ineq_cons = []\n",
    "ineq_cons.append({'type': 'ineq',\n",
    "              'fun' : h_1,\n",
    "              'jac' : lambda X: np.array([[1.0,\n",
    "                                          0.0]])})\n",
    "ineq_cons.append({'type': 'ineq',\n",
    "              'fun' : h_2,\n",
    "              'jac' : lambda X: np.array([[0.0,\n",
    "                                          -1.0]])})\n",
    "ineq_cons.append({'type': 'ineq',\n",
    "              'fun' : h_3,\n",
    "              'jac' : lambda X: np.array([[2.*X[0]*X[1],\n",
    "                                            X[0]**2]])})\n",
    "ineq_cons.append({'type': 'ineq',\n",
    "              'fun' : h_4,\n",
    "              'jac' : lambda X: np.array([[3.*(X[0]**2)*X[1],\n",
    "                                            X[0]**3]])})\n",
    "\n",
    "def f(X):\n",
    "    return X[1]\n",
    "\n",
    "def gen_init_points():\n",
    "    list_pts = []\n",
    "    x_1_list = arange(-150, 150 + 0.1, 10)\n",
    "    x_2_list = arange(-150, 150 + 0.1, 10)\n",
    "    for idx1 in range(x_1_list.shape[0]):\n",
    "        for idx2 in range(x_2_list.shape[0]):\n",
    "            list_pts.append([ [x_1_list[idx1]], [x_2_list[idx2]] ])\n",
    "    return list_pts\n",
    "\n",
    "list_pts = gen_init_points()\n",
    "list_sol = []\n",
    "for X_init in list_pts:\n",
    "    sol = minimize(f, X_init, constraints=ineq_cons)\n",
    "    list_sol.append(sol[\"x\"])\n",
    "\n",
    "print(where( norm(sol) < 1e-5))\n",
    "    "
   ]
  },
  {
   "cell_type": "code",
   "execution_count": null,
   "metadata": {},
   "outputs": [],
   "source": []
  }
 ],
 "metadata": {
  "kernelspec": {
   "display_name": "Python 3",
   "language": "python",
   "name": "python3"
  },
  "language_info": {
   "codemirror_mode": {
    "name": "ipython",
    "version": 3
   },
   "file_extension": ".py",
   "mimetype": "text/x-python",
   "name": "python",
   "nbconvert_exporter": "python",
   "pygments_lexer": "ipython3",
   "version": "3.7.4"
  }
 },
 "nbformat": 4,
 "nbformat_minor": 2
}
