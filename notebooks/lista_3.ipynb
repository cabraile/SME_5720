{
 "cells": [
  {
   "cell_type": "markdown",
   "metadata": {},
   "source": [
    "# LISTA DE EXERCÍCIOS: MINIMIZAÇÃO RESTRITA"
   ]
  },
  {
   "cell_type": "markdown",
   "metadata": {},
   "source": [
    "# 1. Minimização Restrita com Desigualdade"
   ]
  },
  {
   "cell_type": "markdown",
   "metadata": {},
   "source": [
    "## Exercício 1.1\n",
    "$$\n",
    "\\text{min} \\quad c^tx \\\\\n",
    "\\text{s.t.} \\quad\n",
    "Ax \\ge b \\\\\n",
    "x \\ge 0\n",
    "$$"
   ]
  },
  {
   "cell_type": "code",
   "execution_count": null,
   "metadata": {},
   "outputs": [],
   "source": []
  },
  {
   "cell_type": "markdown",
   "metadata": {},
   "source": [
    "## Exercício 1.2\n",
    "Prove as condições de KKT a partir das condições para os multiplicadores de Lagrange com restrições de igualdade."
   ]
  },
  {
   "cell_type": "code",
   "execution_count": null,
   "metadata": {},
   "outputs": [],
   "source": []
  },
  {
   "cell_type": "markdown",
   "metadata": {},
   "source": [
    "## Exercício 1.3\n",
    "Dados $x,y \\in \\mathbb{R}$ fixos, \n",
    "\\begin{equation*}\n",
    "\\text{max} \\quad f(p,q)=px+qy \\\\\n",
    "\\text{s.a:} \\quad p^2+q^2 \\leq 1\n",
    "\\end{equation*}\n"
   ]
  },
  {
   "cell_type": "code",
   "execution_count": null,
   "metadata": {},
   "outputs": [],
   "source": []
  },
  {
   "cell_type": "markdown",
   "metadata": {},
   "source": [
    "# 2. Minimização por Métodos de Barreira"
   ]
  },
  {
   "cell_type": "markdown",
   "metadata": {},
   "source": [
    "## Exercício 2.1\n",
    "Provar que todo ponto de acumulação da sequência $\\{x^k\\}$ gerada por um método de barreira é um minimizador global do problema restrito original."
   ]
  },
  {
   "cell_type": "code",
   "execution_count": null,
   "metadata": {},
   "outputs": [],
   "source": []
  },
  {
   "cell_type": "markdown",
   "metadata": {},
   "source": [
    "## Exercício 2.2\n",
    "$$\n",
    "\\text{min}\\quad f(x) = \\frac{1}{2}(x_1^2 + x_2^2) \\\\\n",
    "s.a.: x_1 \\ge 2\n",
    "$$"
   ]
  },
  {
   "cell_type": "markdown",
   "metadata": {},
   "source": [
    "# 3. Minimização por Métodos de Lagrangeano Aumentado e Penalização"
   ]
  },
  {
   "cell_type": "markdown",
   "metadata": {},
   "source": [
    "## Exercício 3.1 \n",
    "Considere o problema abaixo\n",
    "$$\n",
    "\\text{min}\\quad f(x) = \\frac{1}{2}(x_1^2 + x_2^2) \\\\\n",
    "s.a.: x_1 = 1\n",
    "$$"
   ]
  },
  {
   "cell_type": "markdown",
   "metadata": {},
   "source": [
    "### 3.1.a) Resolva por Lagrangeano aumentado"
   ]
  },
  {
   "cell_type": "code",
   "execution_count": null,
   "metadata": {},
   "outputs": [],
   "source": []
  },
  {
   "cell_type": "markdown",
   "metadata": {},
   "source": [
    "### 3.1.b) Resolva por ponto fixo"
   ]
  },
  {
   "cell_type": "code",
   "execution_count": null,
   "metadata": {},
   "outputs": [],
   "source": []
  },
  {
   "cell_type": "markdown",
   "metadata": {},
   "source": [
    "# 4 Implementação\n",
    "Para os exercícios deste tópico, a função do exercício 1.3 e suas restrições serão usadas para testar a implementação."
   ]
  },
  {
   "cell_type": "markdown",
   "metadata": {},
   "source": [
    "## Exercício 4.1\n",
    "Implemente o algoritmo de minimização restrita que utiliza o método de Lagrangeano aumentado. Compare os resultados com o resultado encontrado analiticamente."
   ]
  },
  {
   "cell_type": "code",
   "execution_count": null,
   "metadata": {},
   "outputs": [],
   "source": []
  },
  {
   "cell_type": "markdown",
   "metadata": {},
   "source": [
    "## Exercício 4.2\n",
    "Implemente o algoritmo de minimização restrita que utiliza o método de ponto fixo. Compare os resultados com o resultado encontrado analiticamente."
   ]
  },
  {
   "cell_type": "code",
   "execution_count": null,
   "metadata": {},
   "outputs": [],
   "source": []
  },
  {
   "cell_type": "markdown",
   "metadata": {},
   "source": [
    "## Exercício 4.3\n",
    "Implemente a função de Rosenbrock com a restrição\n",
    "$$\n",
    "x^2+y^2 <= 1.\n",
    "$$\n",
    "Aplique os métodos implementados para minimizar a função de Rosenbrock com a restrição dada e compare os resultados. Utilizar a direção _steepest descent_ com passo de Armijo."
   ]
  },
  {
   "cell_type": "code",
   "execution_count": null,
   "metadata": {},
   "outputs": [],
   "source": []
  }
 ],
 "metadata": {
  "kernelspec": {
   "display_name": "Python 3",
   "language": "python",
   "name": "python3"
  },
  "language_info": {
   "codemirror_mode": {
    "name": "ipython",
    "version": 3
   },
   "file_extension": ".py",
   "mimetype": "text/x-python",
   "name": "python",
   "nbconvert_exporter": "python",
   "pygments_lexer": "ipython3",
   "version": "3.7.4"
  }
 },
 "nbformat": 4,
 "nbformat_minor": 2
}
